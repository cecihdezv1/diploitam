{
 "cells": [
  {
   "cell_type": "code",
   "execution_count": 1,
   "metadata": {},
   "outputs": [],
   "source": [
    "import numpy as np\n",
    "from datetime import datetime, date\n",
    "from datetime import timedelta\n",
    "from scipy.optimize import minimize\n",
    "from scipy.stats import norm\n",
    "import pandas as pd\n",
    "from sklearn.linear_model import LinearRegression \n",
    "import matplotlib.pyplot as plt"
   ]
  },
  {
   "cell_type": "code",
   "execution_count": 2,
   "metadata": {},
   "outputs": [
    {
     "data": {
      "text/html": [
       "<div>\n",
       "<style scoped>\n",
       "    .dataframe tbody tr th:only-of-type {\n",
       "        vertical-align: middle;\n",
       "    }\n",
       "\n",
       "    .dataframe tbody tr th {\n",
       "        vertical-align: top;\n",
       "    }\n",
       "\n",
       "    .dataframe thead th {\n",
       "        text-align: right;\n",
       "    }\n",
       "</style>\n",
       "<table border=\"1\" class=\"dataframe\">\n",
       "  <thead>\n",
       "    <tr style=\"text-align: right;\">\n",
       "      <th></th>\n",
       "      <th>DATE</th>\n",
       "      <th>ASURB MF Equity</th>\n",
       "      <th>GFNORTEO MF Equity</th>\n",
       "      <th>PE&amp;OLES* MF Equity</th>\n",
       "      <th>WALMEX* MF Equity</th>\n",
       "      <th>IENOVA* MF Equity</th>\n",
       "      <th>CEMEXCPO MF Equity</th>\n",
       "      <th>FEMSAUBD MF Equity</th>\n",
       "      <th>MEXBOL INDEX</th>\n",
       "    </tr>\n",
       "  </thead>\n",
       "  <tbody>\n",
       "    <tr>\n",
       "      <td>0</td>\n",
       "      <td>01/01/2016</td>\n",
       "      <td>243.89</td>\n",
       "      <td>94.99</td>\n",
       "      <td>177.22</td>\n",
       "      <td>43.49</td>\n",
       "      <td>72.34</td>\n",
       "      <td>8.72</td>\n",
       "      <td>161.63</td>\n",
       "      <td>42977.50</td>\n",
       "    </tr>\n",
       "    <tr>\n",
       "      <td>1</td>\n",
       "      <td>04/01/2016</td>\n",
       "      <td>238.29</td>\n",
       "      <td>91.79</td>\n",
       "      <td>175.90</td>\n",
       "      <td>42.84</td>\n",
       "      <td>72.98</td>\n",
       "      <td>8.43</td>\n",
       "      <td>157.62</td>\n",
       "      <td>42113.70</td>\n",
       "    </tr>\n",
       "    <tr>\n",
       "      <td>2</td>\n",
       "      <td>05/01/2016</td>\n",
       "      <td>233.03</td>\n",
       "      <td>91.72</td>\n",
       "      <td>176.45</td>\n",
       "      <td>42.66</td>\n",
       "      <td>71.48</td>\n",
       "      <td>8.31</td>\n",
       "      <td>157.80</td>\n",
       "      <td>42041.68</td>\n",
       "    </tr>\n",
       "    <tr>\n",
       "      <td>3</td>\n",
       "      <td>06/01/2016</td>\n",
       "      <td>231.97</td>\n",
       "      <td>91.63</td>\n",
       "      <td>172.68</td>\n",
       "      <td>42.38</td>\n",
       "      <td>70.94</td>\n",
       "      <td>8.29</td>\n",
       "      <td>156.37</td>\n",
       "      <td>41691.19</td>\n",
       "    </tr>\n",
       "    <tr>\n",
       "      <td>4</td>\n",
       "      <td>07/01/2016</td>\n",
       "      <td>230.71</td>\n",
       "      <td>89.54</td>\n",
       "      <td>172.94</td>\n",
       "      <td>39.99</td>\n",
       "      <td>72.31</td>\n",
       "      <td>7.64</td>\n",
       "      <td>155.14</td>\n",
       "      <td>40661.57</td>\n",
       "    </tr>\n",
       "  </tbody>\n",
       "</table>\n",
       "</div>"
      ],
      "text/plain": [
       "         DATE  ASURB MF Equity  GFNORTEO MF Equity  PE&OLES* MF Equity  \\\n",
       "0  01/01/2016           243.89               94.99              177.22   \n",
       "1  04/01/2016           238.29               91.79              175.90   \n",
       "2  05/01/2016           233.03               91.72              176.45   \n",
       "3  06/01/2016           231.97               91.63              172.68   \n",
       "4  07/01/2016           230.71               89.54              172.94   \n",
       "\n",
       "   WALMEX* MF Equity  IENOVA* MF Equity  CEMEXCPO MF Equity  \\\n",
       "0              43.49              72.34                8.72   \n",
       "1              42.84              72.98                8.43   \n",
       "2              42.66              71.48                8.31   \n",
       "3              42.38              70.94                8.29   \n",
       "4              39.99              72.31                7.64   \n",
       "\n",
       "   FEMSAUBD MF Equity  MEXBOL INDEX  \n",
       "0              161.63      42977.50  \n",
       "1              157.62      42113.70  \n",
       "2              157.80      42041.68  \n",
       "3              156.37      41691.19  \n",
       "4              155.14      40661.57  "
      ]
     },
     "execution_count": 2,
     "metadata": {},
     "output_type": "execute_result"
    }
   ],
   "source": [
    "datos = pd.read_csv( \"C:/Users/José Miguel/Documents/cecy/Diplomado/data-science-master/datos_yolanda.csv\")\n",
    "datos.head()"
   ]
  },
  {
   "cell_type": "markdown",
   "metadata": {},
   "source": [
    "# Pregunta 1: Rendimiento esperado diario y anual bajo los siguientes modelos:"
   ]
  },
  {
   "cell_type": "markdown",
   "metadata": {},
   "source": [
    "a. Modelo de rendimiento promedio constante"
   ]
  },
  {
   "cell_type": "code",
   "execution_count": null,
   "metadata": {},
   "outputs": [],
   "source": []
  },
  {
   "cell_type": "code",
   "execution_count": 3,
   "metadata": {},
   "outputs": [],
   "source": [
    "#tabla de rendimientos\n",
    "def rendimientos (tabla, tipo, periodo):\n",
    "    ''' tipo = resta si se calcula el rendimiento por restas, o log si es por medio de la diferencia de logaritmos\n",
    "        periodo= diaria o anual'''      \n",
    "    columnas = len(tabla.iloc[0,:])\n",
    "    tabla_new = pd.DataFrame(columns = tabla.columns)\n",
    "    tabla_new.iloc[:,0] = tabla.iloc[1:,0] # valor de las fechas\n",
    "    if tipo == \"resta\":\n",
    "        for i in range(columnas -1):\n",
    "            tabla_new.iloc[:,i+1] = ((tabla.iloc[:,i+1]-tabla.iloc[:,i+1].shift(1))/tabla.iloc[:,i+1].shift(1)).dropna()\n",
    "    elif tipo == \"log\":\n",
    "        for i in range(columnas -1):\n",
    "            tabla_new.iloc[:,i+1] = np.log((tabla.iloc[:,i+1]/tabla.iloc[:,i+1].shift(1))).dropna()\n",
    "    \n",
    "    if periodo == \"diario\":\n",
    "        for i in range(columnas -1):\n",
    "            print(\"Rendimiento diario esperado de\", tabla_new.columns[i+1], \"es\", np.mean(tabla_new.iloc[:,i+1]))\n",
    "    elif periodo == \"anual\":\n",
    "        for i in range(columnas -1):\n",
    "            print(\"Rendimiento anual esperado de\", tabla_new.columns[i+1], \"es\", np.mean(tabla_new.iloc[:,i+1])*252)\n",
    "\n",
    "    return(tabla_new)"
   ]
  },
  {
   "cell_type": "code",
   "execution_count": 4,
   "metadata": {},
   "outputs": [
    {
     "name": "stdout",
     "output_type": "stream",
     "text": [
      "Rendimiento diario esperado de ASURB MF Equity es 0.0004902351880160633\n",
      "Rendimiento diario esperado de GFNORTEO MF Equity es 0.0003127431538656982\n",
      "Rendimiento diario esperado de PE&OLES* MF Equity es 0.0004406880721836563\n",
      "Rendimiento diario esperado de WALMEX* MF Equity es 0.0003270864919591542\n",
      "Rendimiento diario esperado de IENOVA* MF Equity es 0.0003134802661959426\n",
      "Rendimiento diario esperado de CEMEXCPO MF Equity es 2.0053853616098856e-05\n",
      "Rendimiento diario esperado de FEMSAUBD MF Equity es 0.00018476531314309558\n",
      "Rendimiento diario esperado de MEXBOL INDEX es 7.144452208466402e-05\n"
     ]
    },
    {
     "data": {
      "text/html": [
       "<div>\n",
       "<style scoped>\n",
       "    .dataframe tbody tr th:only-of-type {\n",
       "        vertical-align: middle;\n",
       "    }\n",
       "\n",
       "    .dataframe tbody tr th {\n",
       "        vertical-align: top;\n",
       "    }\n",
       "\n",
       "    .dataframe thead th {\n",
       "        text-align: right;\n",
       "    }\n",
       "</style>\n",
       "<table border=\"1\" class=\"dataframe\">\n",
       "  <thead>\n",
       "    <tr style=\"text-align: right;\">\n",
       "      <th></th>\n",
       "      <th>DATE</th>\n",
       "      <th>ASURB MF Equity</th>\n",
       "      <th>GFNORTEO MF Equity</th>\n",
       "      <th>PE&amp;OLES* MF Equity</th>\n",
       "      <th>WALMEX* MF Equity</th>\n",
       "      <th>IENOVA* MF Equity</th>\n",
       "      <th>CEMEXCPO MF Equity</th>\n",
       "      <th>FEMSAUBD MF Equity</th>\n",
       "      <th>MEXBOL INDEX</th>\n",
       "    </tr>\n",
       "  </thead>\n",
       "  <tbody>\n",
       "    <tr>\n",
       "      <td>1</td>\n",
       "      <td>04/01/2016</td>\n",
       "      <td>-0.022961</td>\n",
       "      <td>-0.033688</td>\n",
       "      <td>-0.007448</td>\n",
       "      <td>-0.014946</td>\n",
       "      <td>0.008847</td>\n",
       "      <td>-0.033257</td>\n",
       "      <td>-0.024810</td>\n",
       "      <td>-0.020099</td>\n",
       "    </tr>\n",
       "    <tr>\n",
       "      <td>2</td>\n",
       "      <td>05/01/2016</td>\n",
       "      <td>-0.022074</td>\n",
       "      <td>-0.000763</td>\n",
       "      <td>0.003127</td>\n",
       "      <td>-0.004202</td>\n",
       "      <td>-0.020554</td>\n",
       "      <td>-0.014235</td>\n",
       "      <td>0.001142</td>\n",
       "      <td>-0.001710</td>\n",
       "    </tr>\n",
       "    <tr>\n",
       "      <td>3</td>\n",
       "      <td>06/01/2016</td>\n",
       "      <td>-0.004549</td>\n",
       "      <td>-0.000981</td>\n",
       "      <td>-0.021366</td>\n",
       "      <td>-0.006564</td>\n",
       "      <td>-0.007555</td>\n",
       "      <td>-0.002407</td>\n",
       "      <td>-0.009062</td>\n",
       "      <td>-0.008337</td>\n",
       "    </tr>\n",
       "    <tr>\n",
       "      <td>4</td>\n",
       "      <td>07/01/2016</td>\n",
       "      <td>-0.005432</td>\n",
       "      <td>-0.022809</td>\n",
       "      <td>0.001506</td>\n",
       "      <td>-0.056395</td>\n",
       "      <td>0.019312</td>\n",
       "      <td>-0.078408</td>\n",
       "      <td>-0.007866</td>\n",
       "      <td>-0.024696</td>\n",
       "    </tr>\n",
       "    <tr>\n",
       "      <td>5</td>\n",
       "      <td>08/01/2016</td>\n",
       "      <td>-0.004118</td>\n",
       "      <td>-0.007706</td>\n",
       "      <td>-0.003180</td>\n",
       "      <td>0.026007</td>\n",
       "      <td>-0.017148</td>\n",
       "      <td>-0.060209</td>\n",
       "      <td>-0.016308</td>\n",
       "      <td>-0.009744</td>\n",
       "    </tr>\n",
       "    <tr>\n",
       "      <td>...</td>\n",
       "      <td>...</td>\n",
       "      <td>...</td>\n",
       "      <td>...</td>\n",
       "      <td>...</td>\n",
       "      <td>...</td>\n",
       "      <td>...</td>\n",
       "      <td>...</td>\n",
       "      <td>...</td>\n",
       "      <td>...</td>\n",
       "    </tr>\n",
       "    <tr>\n",
       "      <td>1041</td>\n",
       "      <td>30/12/2019</td>\n",
       "      <td>-0.005868</td>\n",
       "      <td>-0.035990</td>\n",
       "      <td>0.004562</td>\n",
       "      <td>-0.026240</td>\n",
       "      <td>-0.008777</td>\n",
       "      <td>-0.009682</td>\n",
       "      <td>0.002012</td>\n",
       "      <td>-0.013647</td>\n",
       "    </tr>\n",
       "    <tr>\n",
       "      <td>1042</td>\n",
       "      <td>31/12/2019</td>\n",
       "      <td>-0.000056</td>\n",
       "      <td>0.006190</td>\n",
       "      <td>-0.010780</td>\n",
       "      <td>-0.000554</td>\n",
       "      <td>0.022654</td>\n",
       "      <td>-0.011173</td>\n",
       "      <td>-0.003347</td>\n",
       "      <td>-0.002668</td>\n",
       "    </tr>\n",
       "    <tr>\n",
       "      <td>1043</td>\n",
       "      <td>01/01/2020</td>\n",
       "      <td>0.000000</td>\n",
       "      <td>0.000000</td>\n",
       "      <td>0.000000</td>\n",
       "      <td>0.000000</td>\n",
       "      <td>0.000000</td>\n",
       "      <td>0.000000</td>\n",
       "      <td>0.000000</td>\n",
       "      <td>0.000000</td>\n",
       "    </tr>\n",
       "    <tr>\n",
       "      <td>1044</td>\n",
       "      <td>02/01/2020</td>\n",
       "      <td>0.018190</td>\n",
       "      <td>0.037956</td>\n",
       "      <td>0.042480</td>\n",
       "      <td>0.017913</td>\n",
       "      <td>-0.013156</td>\n",
       "      <td>0.011299</td>\n",
       "      <td>0.015783</td>\n",
       "      <td>0.020583</td>\n",
       "    </tr>\n",
       "    <tr>\n",
       "      <td>1045</td>\n",
       "      <td>03/01/2020</td>\n",
       "      <td>0.004910</td>\n",
       "      <td>0.002736</td>\n",
       "      <td>0.020423</td>\n",
       "      <td>-0.007801</td>\n",
       "      <td>0.016636</td>\n",
       "      <td>0.004190</td>\n",
       "      <td>0.010248</td>\n",
       "      <td>0.004222</td>\n",
       "    </tr>\n",
       "  </tbody>\n",
       "</table>\n",
       "<p>1045 rows × 9 columns</p>\n",
       "</div>"
      ],
      "text/plain": [
       "            DATE  ASURB MF Equity  GFNORTEO MF Equity  PE&OLES* MF Equity  \\\n",
       "1     04/01/2016        -0.022961           -0.033688           -0.007448   \n",
       "2     05/01/2016        -0.022074           -0.000763            0.003127   \n",
       "3     06/01/2016        -0.004549           -0.000981           -0.021366   \n",
       "4     07/01/2016        -0.005432           -0.022809            0.001506   \n",
       "5     08/01/2016        -0.004118           -0.007706           -0.003180   \n",
       "...          ...              ...                 ...                 ...   \n",
       "1041  30/12/2019        -0.005868           -0.035990            0.004562   \n",
       "1042  31/12/2019        -0.000056            0.006190           -0.010780   \n",
       "1043  01/01/2020         0.000000            0.000000            0.000000   \n",
       "1044  02/01/2020         0.018190            0.037956            0.042480   \n",
       "1045  03/01/2020         0.004910            0.002736            0.020423   \n",
       "\n",
       "      WALMEX* MF Equity  IENOVA* MF Equity  CEMEXCPO MF Equity  \\\n",
       "1             -0.014946           0.008847           -0.033257   \n",
       "2             -0.004202          -0.020554           -0.014235   \n",
       "3             -0.006564          -0.007555           -0.002407   \n",
       "4             -0.056395           0.019312           -0.078408   \n",
       "5              0.026007          -0.017148           -0.060209   \n",
       "...                 ...                ...                 ...   \n",
       "1041          -0.026240          -0.008777           -0.009682   \n",
       "1042          -0.000554           0.022654           -0.011173   \n",
       "1043           0.000000           0.000000            0.000000   \n",
       "1044           0.017913          -0.013156            0.011299   \n",
       "1045          -0.007801           0.016636            0.004190   \n",
       "\n",
       "      FEMSAUBD MF Equity  MEXBOL INDEX  \n",
       "1              -0.024810     -0.020099  \n",
       "2               0.001142     -0.001710  \n",
       "3              -0.009062     -0.008337  \n",
       "4              -0.007866     -0.024696  \n",
       "5              -0.016308     -0.009744  \n",
       "...                  ...           ...  \n",
       "1041            0.002012     -0.013647  \n",
       "1042           -0.003347     -0.002668  \n",
       "1043            0.000000      0.000000  \n",
       "1044            0.015783      0.020583  \n",
       "1045            0.010248      0.004222  \n",
       "\n",
       "[1045 rows x 9 columns]"
      ]
     },
     "execution_count": 4,
     "metadata": {},
     "output_type": "execute_result"
    }
   ],
   "source": [
    "rendimientos(datos, \"resta\", \"diario\")\n"
   ]
  },
  {
   "cell_type": "code",
   "execution_count": 5,
   "metadata": {
    "scrolled": true
   },
   "outputs": [
    {
     "name": "stdout",
     "output_type": "stream",
     "text": [
      "Rendimiento anual esperado de ASURB MF Equity es 0.12353926738004796\n",
      "Rendimiento anual esperado de GFNORTEO MF Equity es 0.07881127477415595\n",
      "Rendimiento anual esperado de PE&OLES* MF Equity es 0.11105339419028139\n",
      "Rendimiento anual esperado de WALMEX* MF Equity es 0.08242579597370686\n",
      "Rendimiento anual esperado de IENOVA* MF Equity es 0.07899702708137754\n",
      "Rendimiento anual esperado de CEMEXCPO MF Equity es 0.005053571111256911\n",
      "Rendimiento anual esperado de FEMSAUBD MF Equity es 0.04656085891206009\n",
      "Rendimiento anual esperado de MEXBOL INDEX es 0.018004019565335334\n"
     ]
    }
   ],
   "source": [
    "fin = rendimientos(datos, \"resta\", \"anual\")"
   ]
  },
  {
   "cell_type": "markdown",
   "metadata": {},
   "source": [
    "b. Modelo CAPM\n",
    "\n",
    "    i. ¿Cuál es la beta de cada acción?\n",
    "    \n",
    "    ii. Clasifica las acciones en defensivas y agresivas"
   ]
  },
  {
   "cell_type": "code",
   "execution_count": 6,
   "metadata": {},
   "outputs": [],
   "source": [
    "def betas(tabla, tipo, periodo, indice, premio, rf): \n",
    "    \"\"\"\" indice = indice del mercado\n",
    "        premio = diferencia entre rendimiento de mercado y tasa libre de riesgo\n",
    "        rf = tasa libre de riesgo\"\"\"\n",
    "    \n",
    "    columnas = len(tabla.iloc[0,:])\n",
    "    tabla_new = pd.DataFrame(columns = tabla.columns)\n",
    "    tabla_new.iloc[:,0] = tabla.iloc[1:,0] # valor de las fechas\n",
    "    if tipo == \"resta\":\n",
    "        for i in range(columnas -1):\n",
    "            tabla_new.iloc[:,i+1] = ((tabla.iloc[:,i+1]-tabla.iloc[:,i+1].shift(1))/tabla.iloc[:,i+1].shift(1)).dropna()\n",
    "    elif tipo == \"log\":\n",
    "        for i in range(columnas -1):\n",
    "            tabla_new.iloc[:,i+1] = np.log((tabla.iloc[:,i+1]/tabla.iloc[:,i+1].shift(1))).dropna()\n",
    "    \n",
    "    betas = []\n",
    "    \n",
    "    for j in range(columnas -2):\n",
    "        lm = LinearRegression()\n",
    "        valor = (lm.fit(tabla_new[[indice]], tabla_new[[tabla_new.columns[j+1]]])).coef_[0][0]\n",
    "        betas.append(valor)\n",
    "        \n",
    "    tipo = []\n",
    "    for h in range(len(betas)):\n",
    "        if betas[h]>=1:\n",
    "            valor = \"agresiva\"\n",
    "        else:\n",
    "            valor = \"defensiva\"\n",
    "        tipo.append(valor)\n",
    "    \n",
    "    rend_capm = []\n",
    "    for h in range(len(betas)):\n",
    "        valor = rf + (betas[h] * premio)\n",
    "        rend_capm.append(valor)\n",
    "    \n",
    "    tabla_capm = pd.DataFrame({\n",
    "        \"Accion\" : tabla_new.columns[1:-1],\n",
    "        \"Beta\" : betas,\n",
    "        \"Tipo\" : tipo,\n",
    "        \"Rendimiento CAPM\" : rend_capm\n",
    "        \n",
    "    })\n",
    "    \n",
    "    return(tabla_capm)\n",
    "    "
   ]
  },
  {
   "cell_type": "code",
   "execution_count": 7,
   "metadata": {},
   "outputs": [
    {
     "data": {
      "text/html": [
       "<div>\n",
       "<style scoped>\n",
       "    .dataframe tbody tr th:only-of-type {\n",
       "        vertical-align: middle;\n",
       "    }\n",
       "\n",
       "    .dataframe tbody tr th {\n",
       "        vertical-align: top;\n",
       "    }\n",
       "\n",
       "    .dataframe thead th {\n",
       "        text-align: right;\n",
       "    }\n",
       "</style>\n",
       "<table border=\"1\" class=\"dataframe\">\n",
       "  <thead>\n",
       "    <tr style=\"text-align: right;\">\n",
       "      <th></th>\n",
       "      <th>Accion</th>\n",
       "      <th>Beta</th>\n",
       "      <th>Tipo</th>\n",
       "      <th>Rendimiento CAPM</th>\n",
       "    </tr>\n",
       "  </thead>\n",
       "  <tbody>\n",
       "    <tr>\n",
       "      <td>0</td>\n",
       "      <td>ASURB MF Equity</td>\n",
       "      <td>0.916168</td>\n",
       "      <td>defensiva</td>\n",
       "      <td>0.141617</td>\n",
       "    </tr>\n",
       "    <tr>\n",
       "      <td>1</td>\n",
       "      <td>GFNORTEO MF Equity</td>\n",
       "      <td>1.522509</td>\n",
       "      <td>agresiva</td>\n",
       "      <td>0.202251</td>\n",
       "    </tr>\n",
       "    <tr>\n",
       "      <td>2</td>\n",
       "      <td>PE&amp;OLES* MF Equity</td>\n",
       "      <td>1.028072</td>\n",
       "      <td>agresiva</td>\n",
       "      <td>0.152807</td>\n",
       "    </tr>\n",
       "    <tr>\n",
       "      <td>3</td>\n",
       "      <td>WALMEX* MF Equity</td>\n",
       "      <td>0.885452</td>\n",
       "      <td>defensiva</td>\n",
       "      <td>0.138545</td>\n",
       "    </tr>\n",
       "    <tr>\n",
       "      <td>4</td>\n",
       "      <td>IENOVA* MF Equity</td>\n",
       "      <td>0.724665</td>\n",
       "      <td>defensiva</td>\n",
       "      <td>0.122467</td>\n",
       "    </tr>\n",
       "    <tr>\n",
       "      <td>5</td>\n",
       "      <td>CEMEXCPO MF Equity</td>\n",
       "      <td>1.457391</td>\n",
       "      <td>agresiva</td>\n",
       "      <td>0.195739</td>\n",
       "    </tr>\n",
       "    <tr>\n",
       "      <td>6</td>\n",
       "      <td>FEMSAUBD MF Equity</td>\n",
       "      <td>0.791768</td>\n",
       "      <td>defensiva</td>\n",
       "      <td>0.129177</td>\n",
       "    </tr>\n",
       "  </tbody>\n",
       "</table>\n",
       "</div>"
      ],
      "text/plain": [
       "               Accion      Beta       Tipo  Rendimiento CAPM\n",
       "0     ASURB MF Equity  0.916168  defensiva          0.141617\n",
       "1  GFNORTEO MF Equity  1.522509   agresiva          0.202251\n",
       "2  PE&OLES* MF Equity  1.028072   agresiva          0.152807\n",
       "3   WALMEX* MF Equity  0.885452  defensiva          0.138545\n",
       "4   IENOVA* MF Equity  0.724665  defensiva          0.122467\n",
       "5  CEMEXCPO MF Equity  1.457391   agresiva          0.195739\n",
       "6  FEMSAUBD MF Equity  0.791768  defensiva          0.129177"
      ]
     },
     "execution_count": 7,
     "metadata": {},
     "output_type": "execute_result"
    }
   ],
   "source": [
    "indice, premio, rf = \"MEXBOL INDEX\", .10, .05\n",
    "betas(datos, \"resta\", \"diario\", indice, premio, rf)"
   ]
  },
  {
   "cell_type": "markdown",
   "metadata": {},
   "source": [
    "# 2. Matriz varianza-covarianza"
   ]
  },
  {
   "cell_type": "code",
   "execution_count": 8,
   "metadata": {},
   "outputs": [],
   "source": [
    "def var_cov(tabla, tipo, periodo): \n",
    "    columnas = len(tabla.iloc[0,:])\n",
    "    tabla_new = pd.DataFrame(columns = tabla.columns[1:-1]) #quitamos la fecha y el indice de mercado\n",
    "    if tipo == \"resta\":\n",
    "        for i in range(columnas -2):#quitamos la fecha y el indice de mercado\n",
    "            tabla_new.iloc[:,i] = ((tabla.iloc[:,i+1]-tabla.iloc[:,i+1].shift(1))/tabla.iloc[:,i+1].shift(1)).dropna()\n",
    "    elif tipo == \"log\":\n",
    "        for i in range(columnas -2):#quitamos la fecha y el indice de mercado\n",
    "            tabla_new.iloc[:,i] = np.log((tabla.iloc[:,i+1]/tabla.iloc[:,i+1].shift(1))).dropna()\n",
    "            \n",
    "    return(tabla_new.cov())"
   ]
  },
  {
   "cell_type": "code",
   "execution_count": 9,
   "metadata": {},
   "outputs": [
    {
     "data": {
      "text/html": [
       "<div>\n",
       "<style scoped>\n",
       "    .dataframe tbody tr th:only-of-type {\n",
       "        vertical-align: middle;\n",
       "    }\n",
       "\n",
       "    .dataframe tbody tr th {\n",
       "        vertical-align: top;\n",
       "    }\n",
       "\n",
       "    .dataframe thead th {\n",
       "        text-align: right;\n",
       "    }\n",
       "</style>\n",
       "<table border=\"1\" class=\"dataframe\">\n",
       "  <thead>\n",
       "    <tr style=\"text-align: right;\">\n",
       "      <th></th>\n",
       "      <th>ASURB MF Equity</th>\n",
       "      <th>GFNORTEO MF Equity</th>\n",
       "      <th>PE&amp;OLES* MF Equity</th>\n",
       "      <th>WALMEX* MF Equity</th>\n",
       "      <th>IENOVA* MF Equity</th>\n",
       "      <th>CEMEXCPO MF Equity</th>\n",
       "      <th>FEMSAUBD MF Equity</th>\n",
       "    </tr>\n",
       "  </thead>\n",
       "  <tbody>\n",
       "    <tr>\n",
       "      <td>ASURB MF Equity</td>\n",
       "      <td>0.000224</td>\n",
       "      <td>0.000086</td>\n",
       "      <td>0.000061</td>\n",
       "      <td>0.000036</td>\n",
       "      <td>0.000044</td>\n",
       "      <td>0.000085</td>\n",
       "      <td>0.000045</td>\n",
       "    </tr>\n",
       "    <tr>\n",
       "      <td>GFNORTEO MF Equity</td>\n",
       "      <td>0.000086</td>\n",
       "      <td>0.000341</td>\n",
       "      <td>0.000094</td>\n",
       "      <td>0.000082</td>\n",
       "      <td>0.000082</td>\n",
       "      <td>0.000130</td>\n",
       "      <td>0.000063</td>\n",
       "    </tr>\n",
       "    <tr>\n",
       "      <td>PE&amp;OLES* MF Equity</td>\n",
       "      <td>0.000061</td>\n",
       "      <td>0.000094</td>\n",
       "      <td>0.000548</td>\n",
       "      <td>0.000041</td>\n",
       "      <td>0.000045</td>\n",
       "      <td>0.000101</td>\n",
       "      <td>0.000046</td>\n",
       "    </tr>\n",
       "    <tr>\n",
       "      <td>WALMEX* MF Equity</td>\n",
       "      <td>0.000036</td>\n",
       "      <td>0.000082</td>\n",
       "      <td>0.000041</td>\n",
       "      <td>0.000215</td>\n",
       "      <td>0.000043</td>\n",
       "      <td>0.000048</td>\n",
       "      <td>0.000042</td>\n",
       "    </tr>\n",
       "    <tr>\n",
       "      <td>IENOVA* MF Equity</td>\n",
       "      <td>0.000044</td>\n",
       "      <td>0.000082</td>\n",
       "      <td>0.000045</td>\n",
       "      <td>0.000043</td>\n",
       "      <td>0.000226</td>\n",
       "      <td>0.000064</td>\n",
       "      <td>0.000040</td>\n",
       "    </tr>\n",
       "    <tr>\n",
       "      <td>CEMEXCPO MF Equity</td>\n",
       "      <td>0.000085</td>\n",
       "      <td>0.000130</td>\n",
       "      <td>0.000101</td>\n",
       "      <td>0.000048</td>\n",
       "      <td>0.000064</td>\n",
       "      <td>0.000411</td>\n",
       "      <td>0.000045</td>\n",
       "    </tr>\n",
       "    <tr>\n",
       "      <td>FEMSAUBD MF Equity</td>\n",
       "      <td>0.000045</td>\n",
       "      <td>0.000063</td>\n",
       "      <td>0.000046</td>\n",
       "      <td>0.000042</td>\n",
       "      <td>0.000040</td>\n",
       "      <td>0.000045</td>\n",
       "      <td>0.000128</td>\n",
       "    </tr>\n",
       "  </tbody>\n",
       "</table>\n",
       "</div>"
      ],
      "text/plain": [
       "                    ASURB MF Equity  GFNORTEO MF Equity  PE&OLES* MF Equity  \\\n",
       "ASURB MF Equity            0.000224            0.000086            0.000061   \n",
       "GFNORTEO MF Equity         0.000086            0.000341            0.000094   \n",
       "PE&OLES* MF Equity         0.000061            0.000094            0.000548   \n",
       "WALMEX* MF Equity          0.000036            0.000082            0.000041   \n",
       "IENOVA* MF Equity          0.000044            0.000082            0.000045   \n",
       "CEMEXCPO MF Equity         0.000085            0.000130            0.000101   \n",
       "FEMSAUBD MF Equity         0.000045            0.000063            0.000046   \n",
       "\n",
       "                    WALMEX* MF Equity  IENOVA* MF Equity  CEMEXCPO MF Equity  \\\n",
       "ASURB MF Equity              0.000036           0.000044            0.000085   \n",
       "GFNORTEO MF Equity           0.000082           0.000082            0.000130   \n",
       "PE&OLES* MF Equity           0.000041           0.000045            0.000101   \n",
       "WALMEX* MF Equity            0.000215           0.000043            0.000048   \n",
       "IENOVA* MF Equity            0.000043           0.000226            0.000064   \n",
       "CEMEXCPO MF Equity           0.000048           0.000064            0.000411   \n",
       "FEMSAUBD MF Equity           0.000042           0.000040            0.000045   \n",
       "\n",
       "                    FEMSAUBD MF Equity  \n",
       "ASURB MF Equity               0.000045  \n",
       "GFNORTEO MF Equity            0.000063  \n",
       "PE&OLES* MF Equity            0.000046  \n",
       "WALMEX* MF Equity             0.000042  \n",
       "IENOVA* MF Equity             0.000040  \n",
       "CEMEXCPO MF Equity            0.000045  \n",
       "FEMSAUBD MF Equity            0.000128  "
      ]
     },
     "execution_count": 9,
     "metadata": {},
     "output_type": "execute_result"
    }
   ],
   "source": [
    "var_cov(datos, \"resta\", \"diario\")"
   ]
  },
  {
   "cell_type": "markdown",
   "metadata": {},
   "source": [
    "Utilizando los rendimientos esperados bajo el modelo CAPM, construye:"
   ]
  },
  {
   "cell_type": "markdown",
   "metadata": {},
   "source": [
    "# 3. Frontera de carteras de mínima varianza y frontera eficiente / graficar\n",
    "\n",
    "a. Con ventas en corto\n",
    "\n",
    "b. Sin ventas en corto\n"
   ]
  },
  {
   "cell_type": "code",
   "execution_count": 11,
   "metadata": {},
   "outputs": [],
   "source": [
    "def frontera (pesos, corto):\n",
    "    desv_port_anual, pesos_optimos, rendimiento = [], [], []\n",
    "    \n",
    "    for j in range(len(puntos_frontera)):\n",
    "        val_rend = lambda pesos: np.sum(pesos * rend_activos) - puntos_frontera[j] # asegurando un rendimiento\n",
    "        suma = lambda pesos: 1 - sum(pesos) #los pesos deben sumar uno\n",
    "        cons   = ({'type':'eq','fun':suma},\n",
    "             {'type':'eq','fun': val_rend })\n",
    "        \n",
    "        # limites (bounds)\n",
    "        if corto ==\"permitido\":\n",
    "            b    = (-1,1) \n",
    "        elif corto == \"no permitido\":\n",
    "            b    = (0,1) \n",
    "    \n",
    "        bnds = (b, b, b, b,b,b,b)\n",
    "        sol  = minimize(vol_anual,# minimize\n",
    "                pesos,\n",
    "                bounds      = bnds,\n",
    "                constraints = cons)\n",
    "        \n",
    "        var_port_anual = np.matrix(sol[\"x\"])* np.matrix(var) * np.matrix(sol[\"x\"]).T * 252\n",
    "        \n",
    "        desv_port_anual.append(float(np.sqrt(var_port_anual)))\n",
    "        pesos_optimos.append(sol[\"x\"])\n",
    "        rendimiento.append(np.sum(sol[\"x\"] * rend_activos))\n",
    "        \n",
    "    tabla_frontera = pd.DataFrame({\n",
    "        \"Pesos optimos\" : pesos_optimos,\n",
    "        \"Desv. std portafolio (anual)\" : desv_port_anual,\n",
    "        \"Rendimiento\" : rendimiento\n",
    "\n",
    "        \n",
    "    })\n",
    "    \n",
    "    \n",
    "    return(tabla_frontera)\n",
    "    \n",
    "  "
   ]
  },
  {
   "cell_type": "code",
   "execution_count": 24,
   "metadata": {},
   "outputs": [],
   "source": [
    "tipo, periodo, indice, premio, rf= \"resta\", \"diario\", \"MEXBOL INDEX\", .10, .05\n",
    "rend_activos = betas(datos, tipo, periodo, indice, premio, rf)[\"Rendimiento CAPM\"]\n",
    "n = len(rend_activos)\n",
    "pesos = [.1, .1, .1, .1, .1 , .1, .4]\n",
    "\n",
    "rend_port = sum(pesos[i]* rend_activos[i] for i in range(n))\n",
    "var = var_cov(datos, \"resta\", \"diario\")\n",
    "vol_anual = lambda pesos: np.sqrt(np.matrix(pesos)* np.matrix(var) * np.matrix(pesos).T * 252)#función objetivo\n",
    "\n",
    "puntos_frontera = np.linspace(rend_port * .5, rend_port * 1.5, 30)\n"
   ]
  },
  {
   "cell_type": "code",
   "execution_count": 25,
   "metadata": {},
   "outputs": [],
   "source": [
    "frontera1 = frontera(pesos, \"permitido\") # se permiten ventas en corto\n",
    "frontera2 = frontera(pesos, \"no permitido\") # no se permiten ventas en corto\n"
   ]
  },
  {
   "cell_type": "code",
   "execution_count": 27,
   "metadata": {},
   "outputs": [
    {
     "data": {
      "text/plain": [
       "Text(0.5, 1.0, 'Frontera con ventas en corto y sin ventas en corto')"
      ]
     },
     "execution_count": 27,
     "metadata": {},
     "output_type": "execute_result"
    },
    {
     "data": {
      "image/png": "[encoded data removed]",
      "text/plain": [
       "<Figure size 432x288 with 1 Axes>"
      ]
     },
     "metadata": {
      "needs_background": "light"
     },
     "output_type": "display_data"
    }
   ],
   "source": [
    "plt.scatter(frontera1[\"Desv. std portafolio (anual)\"], frontera1[\"Rendimiento\"]) #permite ventas en corto\n",
    "plt.scatter(frontera2[\"Desv. std portafolio (anual)\"], frontera2[\"Rendimiento\"]) # no permite ventas en corto\n",
    "plt.xlabel(\"Volatilidad\")\n",
    "plt.ylabel (\"Rendimiento esperado\")\n",
    "plt.title(\"Frontera con ventas en corto y sin ventas en corto\")\n"
   ]
  },
  {
   "cell_type": "markdown",
   "metadata": {},
   "source": [
    "# 4. Encuentra el portafolio riesgoso óptimo (maximiza el coeficiente de Sharpe)"
   ]
  },
  {
   "cell_type": "code",
   "execution_count": 28,
   "metadata": {},
   "outputs": [],
   "source": [
    "min_sharpe = lambda pesos: -(np.sum(pesos * rend_activos) - rf) / np.sqrt(np.matrix(pesos)* np.matrix(var) * np.matrix(pesos).T * 252) # función objetivo\n",
    "rf = .05\n",
    "accion = datos.columns[1:-1]\n",
    "def sharpe (pesos, corto):\n",
    "    \n",
    "    suma = lambda pesos: 1 - sum(pesos) #los pesos deben sumar uno\n",
    "    cons   = ({'type':'eq','fun':suma})\n",
    "        \n",
    "    # limites (bounds)\n",
    "    if corto ==\"permitido\":\n",
    "        b    = (-1,1) \n",
    "    elif corto == \"no permitido\":\n",
    "        b    = (0,1) \n",
    "    \n",
    "    bnds = (b, b, b, b,b,b,b)\n",
    "    sol  = minimize(min_sharpe,# minimize\n",
    "            pesos,\n",
    "            bounds      = bnds,\n",
    "            constraints = cons)\n",
    "        \n",
    "    \n",
    "    var_port_anual = np.matrix(sol[\"x\"])* np.matrix(var) * np.matrix(sol[\"x\"]).T * 252\n",
    "    desv_port_anual = (float(np.sqrt(var_port_anual)))\n",
    "    pesos_optimos = (sol[\"x\"])\n",
    "    rendimiento = np.sum(sol[\"x\"] * rend_activos)\n",
    "    sharpe = (rendimiento - rf)/ desv_port_anual\n",
    "    \n",
    "    tabla_sharpe = {\n",
    "        \"Pesos optimos\" : sol[\"x\"],\n",
    "        \"Desv. std\" : desv_port_anual,\n",
    "        \"Rendimiento\" : rendimiento,\n",
    "        \"Sharpe\" :sharpe\n",
    "\n",
    "        \n",
    "    }\n",
    "    \n",
    "    \n",
    "    return(tabla_sharpe)"
   ]
  },
  {
   "cell_type": "code",
   "execution_count": 44,
   "metadata": {},
   "outputs": [
    {
     "name": "stdout",
     "output_type": "stream",
     "text": [
      "Rendimiento:  0.15702768781043175\n",
      "Desv. std:  0.1538410280856405\n",
      "Sharpe:  0.6957031498180796\n",
      "Pesos del portafolio:\n"
     ]
    },
    {
     "data": {
      "text/html": [
       "<div>\n",
       "<style scoped>\n",
       "    .dataframe tbody tr th:only-of-type {\n",
       "        vertical-align: middle;\n",
       "    }\n",
       "\n",
       "    .dataframe tbody tr th {\n",
       "        vertical-align: top;\n",
       "    }\n",
       "\n",
       "    .dataframe thead th {\n",
       "        text-align: right;\n",
       "    }\n",
       "</style>\n",
       "<table border=\"1\" class=\"dataframe\">\n",
       "  <thead>\n",
       "    <tr style=\"text-align: right;\">\n",
       "      <th></th>\n",
       "      <th>ASURB MF Equity</th>\n",
       "      <th>GFNORTEO MF Equity</th>\n",
       "      <th>PE&amp;OLES* MF Equity</th>\n",
       "      <th>WALMEX* MF Equity</th>\n",
       "      <th>IENOVA* MF Equity</th>\n",
       "      <th>CEMEXCPO MF Equity</th>\n",
       "      <th>FEMSAUBD MF Equity</th>\n",
       "    </tr>\n",
       "  </thead>\n",
       "  <tbody>\n",
       "    <tr>\n",
       "      <td>0</td>\n",
       "      <td>0.123766</td>\n",
       "      <td>0.184502</td>\n",
       "      <td>0.05068</td>\n",
       "      <td>0.162331</td>\n",
       "      <td>0.059075</td>\n",
       "      <td>0.157852</td>\n",
       "      <td>0.261796</td>\n",
       "    </tr>\n",
       "  </tbody>\n",
       "</table>\n",
       "</div>"
      ],
      "text/plain": [
       "   ASURB MF Equity  GFNORTEO MF Equity  PE&OLES* MF Equity  WALMEX* MF Equity  \\\n",
       "0         0.123766            0.184502             0.05068           0.162331   \n",
       "\n",
       "   IENOVA* MF Equity  CEMEXCPO MF Equity  FEMSAUBD MF Equity  \n",
       "0           0.059075            0.157852            0.261796  "
      ]
     },
     "execution_count": 44,
     "metadata": {},
     "output_type": "execute_result"
    }
   ],
   "source": [
    "accion = datos.columns[1:-1]\n",
    "sol_sharpe = sharpe (pesos, \"no permitido\") \n",
    "\n",
    "print(\"Rendimiento: \",sol_sharpe[\"Rendimiento\"])\n",
    "print(\"Desv. std: \",sol_sharpe [\"Desv. std\"])\n",
    "print(\"Sharpe: \",sol_sharpe [\"Sharpe\"])\n",
    "print(\"Pesos del portafolio:\")\n",
    "pd.DataFrame([sol_sharpe [\"Pesos optimos\"]],columns= accion)\n"
   ]
  },
  {
   "cell_type": "code",
   "execution_count": 45,
   "metadata": {},
   "outputs": [
    {
     "data": {
      "text/plain": [
       "Text(0.5, 1.0, 'Se permiten ventas en corto')"
      ]
     },
     "execution_count": 45,
     "metadata": {},
     "output_type": "execute_result"
    },
    {
     "data": {
      "image/png": "[encoded data removed]",
      "text/plain": [
       "<Figure size 432x288 with 1 Axes>"
      ]
     },
     "metadata": {
      "needs_background": "light"
     },
     "output_type": "display_data"
    }
   ],
   "source": [
    "x = np.linspace(0, max(frontera1[\"Desv. std portafolio (anual)\"]), 30) \n",
    "recta = rf + x * sol_sharpe[\"Sharpe\"] \n",
    "plt.scatter(frontera1[\"Desv. std portafolio (anual)\"], frontera1[\"Rendimiento\"]) #permite ventas en corto\n",
    "plt.plot(x, recta, c = \"red\", linestyle='--')\n",
    "plt.scatter(sol_sharpe[\"Desv. std\"],sol_sharpe[\"Rendimiento\"], marker = \"o\", c= \"yellow\", s = 200)\n",
    "plt.xlabel(\"Volatilidad\")\n",
    "plt.ylabel (\"Rendimiento esperado\")\n",
    "plt.title( \"Se permiten ventas en corto\")"
   ]
  },
  {
   "cell_type": "markdown",
   "metadata": {},
   "source": [
    "# 5. Calcula el VaR paramétrico del portafolio riesgoso óptimo (1 día, 95% de confianza)"
   ]
  },
  {
   "cell_type": "code",
   "execution_count": 46,
   "metadata": {},
   "outputs": [],
   "source": [
    "def VaR(confianza, monto, vol_anual, tipo_VaR):\n",
    "    F = norm.ppf(confianza)\n",
    "    \n",
    "    if tipo_VaR == \"diario\":\n",
    "        VaR = F * monto * (vol_anual / np.sqrt(252))\n",
    "    elif tipo_VaR == \"anual\":\n",
    "        VaR = F * monto * vol_anual\n",
    "        \n",
    "    return(VaR)"
   ]
  },
  {
   "cell_type": "code",
   "execution_count": 47,
   "metadata": {},
   "outputs": [
    {
     "name": "stdout",
     "output_type": "stream",
     "text": [
      "El VaR a un día con un nivel de confianza del 95% es: 159.40397973306943\n"
     ]
    }
   ],
   "source": [
    "monto, confianza, tipo_VaR = 10000, .95, \"diario\"\n",
    "vol_anual = sol_sharpe [\"Desv. std\"]\n",
    "print( \"El VaR a un día con un nivel de confianza del 95% es:\", VaR(confianza, monto, vol_anual, tipo_VaR))"
   ]
  },
  {
   "cell_type": "markdown",
   "metadata": {},
   "source": [
    "# BONUS POINT: Elige los porcentajes a invertir en el portafolio riesgoso óptimo y el activo libre de riesgo (maximizar la función de utilidad)"
   ]
  },
  {
   "cell_type": "code",
   "execution_count": 48,
   "metadata": {},
   "outputs": [
    {
     "name": "stdout",
     "output_type": "stream",
     "text": [
      "El rendimiento total de la cartera es: 0.2113342908889324\n"
     ]
    }
   ],
   "source": [
    "A = 3\n",
    "y_star = (sol_sharpe [\"Rendimiento\"] - rf) / (A * sol_sharpe[\"Desv. std\"]**2)\n",
    "rendimiento_total = y_star * sol_sharpe [\"Rendimiento\"] + (1-y_star) * rf\n",
    "print(\"El rendimiento total de la cartera es:\", rendimiento_total)"
   ]
  },
  {
   "cell_type": "code",
   "execution_count": 49,
   "metadata": {},
   "outputs": [
    {
     "name": "stdout",
     "output_type": "stream",
     "text": [
      "En activo libre de riesgo se invierte: -0.025370352377736563 y,\n",
      "en activo riesgoso se invierten los pesos: \n"
     ]
    },
    {
     "data": {
      "text/html": [
       "<div>\n",
       "<style scoped>\n",
       "    .dataframe tbody tr th:only-of-type {\n",
       "        vertical-align: middle;\n",
       "    }\n",
       "\n",
       "    .dataframe tbody tr th {\n",
       "        vertical-align: top;\n",
       "    }\n",
       "\n",
       "    .dataframe thead th {\n",
       "        text-align: right;\n",
       "    }\n",
       "</style>\n",
       "<table border=\"1\" class=\"dataframe\">\n",
       "  <thead>\n",
       "    <tr style=\"text-align: right;\">\n",
       "      <th></th>\n",
       "      <th>ASURB MF Equity</th>\n",
       "      <th>GFNORTEO MF Equity</th>\n",
       "      <th>PE&amp;OLES* MF Equity</th>\n",
       "      <th>WALMEX* MF Equity</th>\n",
       "      <th>IENOVA* MF Equity</th>\n",
       "      <th>CEMEXCPO MF Equity</th>\n",
       "      <th>FEMSAUBD MF Equity</th>\n",
       "    </tr>\n",
       "  </thead>\n",
       "  <tbody>\n",
       "    <tr>\n",
       "      <td>0</td>\n",
       "      <td>0.186565</td>\n",
       "      <td>0.278119</td>\n",
       "      <td>0.076395</td>\n",
       "      <td>0.244699</td>\n",
       "      <td>0.089049</td>\n",
       "      <td>0.237947</td>\n",
       "      <td>0.394633</td>\n",
       "    </tr>\n",
       "  </tbody>\n",
       "</table>\n",
       "</div>"
      ],
      "text/plain": [
       "   ASURB MF Equity  GFNORTEO MF Equity  PE&OLES* MF Equity  WALMEX* MF Equity  \\\n",
       "0         0.186565            0.278119            0.076395           0.244699   \n",
       "\n",
       "   IENOVA* MF Equity  CEMEXCPO MF Equity  FEMSAUBD MF Equity  \n",
       "0           0.089049            0.237947            0.394633  "
      ]
     },
     "execution_count": 49,
     "metadata": {},
     "output_type": "execute_result"
    }
   ],
   "source": [
    "print(\"En activo libre de riesgo se invierte:\", rf * (1 - y_star), \"y,\")\n",
    "print(\"en activo riesgoso se invierten los pesos: \")\n",
    "pd.DataFrame([sol_sharpe [\"Pesos optimos\"]* y_star],columns= accion)\n"
   ]
  },
  {
   "cell_type": "code",
   "execution_count": null,
   "metadata": {},
   "outputs": [],
   "source": []
  },
  {
   "cell_type": "code",
   "execution_count": null,
   "metadata": {},
   "outputs": [],
   "source": []
  },
  {
   "cell_type": "code",
   "execution_count": 398,
   "metadata": {},
   "outputs": [],
   "source": []
  },
  {
   "cell_type": "code",
   "execution_count": 473,
   "metadata": {},
   "outputs": [],
   "source": []
  },
  {
   "cell_type": "code",
   "execution_count": null,
   "metadata": {},
   "outputs": [],
   "source": []
  },
  {
   "cell_type": "code",
   "execution_count": 503,
   "metadata": {},
   "outputs": [],
   "source": [
    "      \n",
    "     \n"
   ]
  },
  {
   "cell_type": "code",
   "execution_count": 507,
   "metadata": {},
   "outputs": [],
   "source": []
  },
  {
   "cell_type": "code",
   "execution_count": null,
   "metadata": {},
   "outputs": [],
   "source": []
  },
  {
   "cell_type": "code",
   "execution_count": null,
   "metadata": {},
   "outputs": [],
   "source": []
  },
  {
   "cell_type": "code",
   "execution_count": null,
   "metadata": {},
   "outputs": [],
   "source": []
  },
  {
   "cell_type": "code",
   "execution_count": 634,
   "metadata": {},
   "outputs": [],
   "source": []
  },
  {
   "cell_type": "code",
   "execution_count": null,
   "metadata": {},
   "outputs": [],
   "source": []
  },
  {
   "cell_type": "code",
   "execution_count": null,
   "metadata": {},
   "outputs": [],
   "source": []
  },
  {
   "cell_type": "markdown",
   "metadata": {},
   "source": []
  },
  {
   "cell_type": "code",
   "execution_count": null,
   "metadata": {},
   "outputs": [],
   "source": []
  },
  {
   "cell_type": "code",
   "execution_count": null,
   "metadata": {},
   "outputs": [],
   "source": []
  },
  {
   "cell_type": "markdown",
   "metadata": {},
   "source": []
  },
  {
   "cell_type": "code",
   "execution_count": null,
   "metadata": {},
   "outputs": [],
   "source": []
  },
  {
   "cell_type": "code",
   "execution_count": null,
   "metadata": {},
   "outputs": [],
   "source": []
  },
  {
   "cell_type": "code",
   "execution_count": null,
   "metadata": {},
   "outputs": [],
   "source": []
  },
  {
   "cell_type": "code",
   "execution_count": null,
   "metadata": {},
   "outputs": [],
   "source": []
  },
  {
   "cell_type": "code",
   "execution_count": null,
   "metadata": {},
   "outputs": [],
   "source": []
  },
  {
   "cell_type": "code",
   "execution_count": null,
   "metadata": {},
   "outputs": [],
   "source": []
  },
  {
   "cell_type": "code",
   "execution_count": null,
   "metadata": {},
   "outputs": [],
   "source": []
  },
  {
   "cell_type": "code",
   "execution_count": null,
   "metadata": {},
   "outputs": [],
   "source": []
  },
  {
   "cell_type": "code",
   "execution_count": null,
   "metadata": {},
   "outputs": [],
   "source": []
  },
  {
   "cell_type": "code",
   "execution_count": null,
   "metadata": {},
   "outputs": [],
   "source": [
    "\n"
   ]
  },
  {
   "cell_type": "code",
   "execution_count": null,
   "metadata": {},
   "outputs": [],
   "source": []
  },
  {
   "cell_type": "code",
   "execution_count": null,
   "metadata": {},
   "outputs": [],
   "source": []
  },
  {
   "cell_type": "code",
   "execution_count": null,
   "metadata": {},
   "outputs": [],
   "source": []
  },
  {
   "cell_type": "code",
   "execution_count": null,
   "metadata": {},
   "outputs": [],
   "source": []
  },
  {
   "cell_type": "code",
   "execution_count": null,
   "metadata": {},
   "outputs": [],
   "source": []
  },
  {
   "cell_type": "code",
   "execution_count": null,
   "metadata": {},
   "outputs": [],
   "source": []
  },
  {
   "cell_type": "code",
   "execution_count": null,
   "metadata": {},
   "outputs": [],
   "source": []
  },
  {
   "cell_type": "code",
   "execution_count": null,
   "metadata": {},
   "outputs": [],
   "source": []
  },
  {
   "cell_type": "code",
   "execution_count": null,
   "metadata": {},
   "outputs": [],
   "source": []
  },
  {
   "cell_type": "code",
   "execution_count": null,
   "metadata": {},
   "outputs": [],
   "source": []
  },
  {
   "cell_type": "code",
   "execution_count": null,
   "metadata": {},
   "outputs": [],
   "source": []
  },
  {
   "cell_type": "code",
   "execution_count": null,
   "metadata": {},
   "outputs": [],
   "source": []
  },
  {
   "cell_type": "code",
   "execution_count": null,
   "metadata": {},
   "outputs": [],
   "source": []
  },
  {
   "cell_type": "code",
   "execution_count": null,
   "metadata": {},
   "outputs": [],
   "source": []
  }
 ],
 "metadata": {
  "kernelspec": {
   "display_name": "Python 3",
   "language": "python",
   "name": "python3"
  },
  "language_info": {
   "codemirror_mode": {
    "name": "ipython",
    "version": 3
   },
   "file_extension": ".py",
   "mimetype": "text/x-python",
   "name": "python",
   "nbconvert_exporter": "python",
   "pygments_lexer": "ipython3",
   "version": "3.7.4"
  }
 },
 "nbformat": 4,
 "nbformat_minor": 2
}
