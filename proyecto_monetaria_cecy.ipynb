{
 "cells": [
  {
   "cell_type": "code",
   "execution_count": 1,
   "metadata": {},
   "outputs": [],
   "source": [
    "import os\n",
    "import pandas as pd\n",
    "import numpy as np\n",
    "import matplotlib.pyplot as plt\n",
    "from requests_html import HTMLSession\n",
    "from collections import defaultdict\n",
    "from unidecode import unidecode\n",
    "from datetime import datetime\n",
    "%config InlineBackend.figure_format = \"retina\"\n",
    "plt.rcParams[\"figure.figsize\"] = (12, 4)"
   ]
  },
  {
   "cell_type": "markdown",
   "metadata": {},
   "source": [
    "# Webscrapping"
   ]
  },
  {
   "cell_type": "code",
   "execution_count": 2,
   "metadata": {},
   "outputs": [],
   "source": [
    "url = (\"https://www.banxico.org.mx/publicaciones-y-prensa/anuncios-de-las-decisiones-de-politica-monetaria/anuncios-politica-monetaria-t.html\")"
   ]
  },
  {
   "cell_type": "code",
   "execution_count": 3,
   "metadata": {},
   "outputs": [
    {
     "data": {
      "text/plain": [
       "<Response [200]>"
      ]
     },
     "execution_count": 3,
     "metadata": {},
     "output_type": "execute_result"
    }
   ],
   "source": [
    "#Por medio de requests_html, extrae los tres puntos antes mencionados y \n",
    "#guárdalos dentro de un DataFrame con columnas \"date\", \"text\" y \"url\";\n",
    "\n",
    "with HTMLSession() as sess:\n",
    "    r = sess.get(url)\n",
    "r\n"
   ]
  },
  {
   "cell_type": "code",
   "execution_count": 4,
   "metadata": {},
   "outputs": [],
   "source": [
    "divpage = r.html.find(\"div[class='col-xs-12 col-md-12']\", first=True)\n",
    "politica_links = divpage.find(\"tr\")\n",
    "\n"
   ]
  },
  {
   "cell_type": "code",
   "execution_count": 5,
   "metadata": {},
   "outputs": [
    {
     "data": {
      "text/plain": [
       "'El objetivo para la Tasa de Inter�s Interbancaria a 1 d�a (tasa objetivo) disminuye en 25 puntos base\\nTexto completo'"
      ]
     },
     "execution_count": 5,
     "metadata": {},
     "output_type": "execute_result"
    }
   ],
   "source": [
    "politica_text= divpage.find(\"td[class= 'bmtextview']\",first=True).text\n",
    "politica_text"
   ]
  },
  {
   "cell_type": "code",
   "execution_count": 6,
   "metadata": {},
   "outputs": [
    {
     "data": {
      "text/plain": [
       "'El objetivo para la Tasa de Inter�s Interbancaria a 1 d�a (tasa objetivo) se mantiene sin cambio en 8.25 por ciento\\nTexto completo'"
      ]
     },
     "execution_count": 6,
     "metadata": {},
     "output_type": "execute_result"
    }
   ],
   "source": [
    "politica_text= divpage.find(\"td[class= 'bmtextview']\")\n",
    "politica_text[5].text"
   ]
  },
  {
   "cell_type": "code",
   "execution_count": 7,
   "metadata": {},
   "outputs": [
    {
     "data": {
      "text/plain": [
       "'13/02/20'"
      ]
     },
     "execution_count": 7,
     "metadata": {},
     "output_type": "execute_result"
    }
   ],
   "source": [
    "poltica_date = divpage.find(\"td[class= 'bmdateview']\",first=True).text\n",
    "poltica_date\n"
   ]
  },
  {
   "cell_type": "code",
   "execution_count": 8,
   "metadata": {},
   "outputs": [
    {
     "data": {
      "text/plain": [
       "{'https://www.banxico.org.mx/politica-monetaria/d/{3B4BDA5B-E7E8-E414-2066-DA0CB3F7C36F}.pdf'}"
      ]
     },
     "execution_count": 8,
     "metadata": {},
     "output_type": "execute_result"
    }
   ],
   "source": [
    "url= divpage.find(\"a\")\n",
    "url[0].absolute_links"
   ]
  },
  {
   "cell_type": "code",
   "execution_count": 9,
   "metadata": {},
   "outputs": [
    {
     "data": {
      "text/html": [
       "<div>\n",
       "<style scoped>\n",
       "    .dataframe tbody tr th:only-of-type {\n",
       "        vertical-align: middle;\n",
       "    }\n",
       "\n",
       "    .dataframe tbody tr th {\n",
       "        vertical-align: top;\n",
       "    }\n",
       "\n",
       "    .dataframe thead th {\n",
       "        text-align: right;\n",
       "    }\n",
       "</style>\n",
       "<table border=\"1\" class=\"dataframe\">\n",
       "  <thead>\n",
       "    <tr style=\"text-align: right;\">\n",
       "      <th></th>\n",
       "      <th>text</th>\n",
       "      <th>url</th>\n",
       "    </tr>\n",
       "    <tr>\n",
       "      <th>date</th>\n",
       "      <th></th>\n",
       "      <th></th>\n",
       "    </tr>\n",
       "  </thead>\n",
       "  <tbody>\n",
       "    <tr>\n",
       "      <th>2008-02-15</th>\n",
       "      <td>El objetivo para la Tasa de Inter�s Interbanca...</td>\n",
       "      <td>https://www.banxico.org.mx/publicaciones-y-pre...</td>\n",
       "    </tr>\n",
       "    <tr>\n",
       "      <th>2008-03-14</th>\n",
       "      <td>El objetivo para la Tasa de Inter�s Interbanca...</td>\n",
       "      <td>https://www.banxico.org.mx/publicaciones-y-pre...</td>\n",
       "    </tr>\n",
       "    <tr>\n",
       "      <th>2008-04-18</th>\n",
       "      <td>El objetivo para la Tasa de Inter�s Interbanca...</td>\n",
       "      <td>https://www.banxico.org.mx/publicaciones-y-pre...</td>\n",
       "    </tr>\n",
       "    <tr>\n",
       "      <th>2008-05-16</th>\n",
       "      <td>El objetivo para la Tasa de Inter�s Interbanca...</td>\n",
       "      <td>https://www.banxico.org.mx/publicaciones-y-pre...</td>\n",
       "    </tr>\n",
       "    <tr>\n",
       "      <th>2008-06-20</th>\n",
       "      <td>El objetivo para la Tasa de Inter�s Interbanca...</td>\n",
       "      <td>https://www.banxico.org.mx/publicaciones-y-pre...</td>\n",
       "    </tr>\n",
       "  </tbody>\n",
       "</table>\n",
       "</div>"
      ],
      "text/plain": [
       "                                                         text  \\\n",
       "date                                                            \n",
       "2008-02-15  El objetivo para la Tasa de Inter�s Interbanca...   \n",
       "2008-03-14  El objetivo para la Tasa de Inter�s Interbanca...   \n",
       "2008-04-18  El objetivo para la Tasa de Inter�s Interbanca...   \n",
       "2008-05-16  El objetivo para la Tasa de Inter�s Interbanca...   \n",
       "2008-06-20  El objetivo para la Tasa de Inter�s Interbanca...   \n",
       "\n",
       "                                                          url  \n",
       "date                                                           \n",
       "2008-02-15  https://www.banxico.org.mx/publicaciones-y-pre...  \n",
       "2008-03-14  https://www.banxico.org.mx/publicaciones-y-pre...  \n",
       "2008-04-18  https://www.banxico.org.mx/publicaciones-y-pre...  \n",
       "2008-05-16  https://www.banxico.org.mx/publicaciones-y-pre...  \n",
       "2008-06-20  https://www.banxico.org.mx/publicaciones-y-pre...  "
      ]
     },
     "execution_count": 9,
     "metadata": {},
     "output_type": "execute_result"
    }
   ],
   "source": [
    "values = []\n",
    "for i in range(len(politica_links)):\n",
    "    politica_date = divpage.find(\"td[class= 'bmdateview']\")[i].text\n",
    "    politica_text= divpage.find(\"td[class= 'bmtextview']\")[i].text\n",
    "    url= divpage.find(\"a\")[i].absolute_links\n",
    "    url, *_ = url\n",
    "    values.append([politica_date, politica_text,url])\n",
    "    \n",
    "df_values = pd.DataFrame(values, columns=[\"date\", \"text\",\"url\"])\n",
    "df_values[\"date\"]= pd.to_datetime(df_values[\"date\"], format=\"%d/%m/%y\")\n",
    "df_values = df_values[df_values[\"date\"] >= \"2008-02-15\"]\n",
    "df_values = df_values.set_index(\"date\")\n",
    "df_values = df_values.sort_index(ascending = True)\n",
    "df_values.head()\n",
    "df_values.to_pickle(\"C:/Users/José Miguel/Documents/cecy/Diplomado/comunicados-banxico.pkl\")"
   ]
  },
  {
   "cell_type": "code",
   "execution_count": 10,
   "metadata": {},
   "outputs": [
    {
     "data": {
      "text/html": [
       "<div>\n",
       "<style scoped>\n",
       "    .dataframe tbody tr th:only-of-type {\n",
       "        vertical-align: middle;\n",
       "    }\n",
       "\n",
       "    .dataframe tbody tr th {\n",
       "        vertical-align: top;\n",
       "    }\n",
       "\n",
       "    .dataframe thead th {\n",
       "        text-align: right;\n",
       "    }\n",
       "</style>\n",
       "<table border=\"1\" class=\"dataframe\">\n",
       "  <thead>\n",
       "    <tr style=\"text-align: right;\">\n",
       "      <th></th>\n",
       "      <th>text</th>\n",
       "      <th>url</th>\n",
       "      <th>category</th>\n",
       "    </tr>\n",
       "    <tr>\n",
       "      <th>date</th>\n",
       "      <th></th>\n",
       "      <th></th>\n",
       "      <th></th>\n",
       "    </tr>\n",
       "  </thead>\n",
       "  <tbody>\n",
       "    <tr>\n",
       "      <th>2008-02-15</th>\n",
       "      <td>El objetivo para la Tasa de Inter�s Interbanca...</td>\n",
       "      <td>https://www.banxico.org.mx/publicaciones-y-pre...</td>\n",
       "      <td>mantiene</td>\n",
       "    </tr>\n",
       "    <tr>\n",
       "      <th>2008-03-14</th>\n",
       "      <td>El objetivo para la Tasa de Inter�s Interbanca...</td>\n",
       "      <td>https://www.banxico.org.mx/publicaciones-y-pre...</td>\n",
       "      <td>mantiene</td>\n",
       "    </tr>\n",
       "    <tr>\n",
       "      <th>2008-04-18</th>\n",
       "      <td>El objetivo para la Tasa de Inter�s Interbanca...</td>\n",
       "      <td>https://www.banxico.org.mx/publicaciones-y-pre...</td>\n",
       "      <td>mantiene</td>\n",
       "    </tr>\n",
       "    <tr>\n",
       "      <th>2008-05-16</th>\n",
       "      <td>El objetivo para la Tasa de Inter�s Interbanca...</td>\n",
       "      <td>https://www.banxico.org.mx/publicaciones-y-pre...</td>\n",
       "      <td>mantiene</td>\n",
       "    </tr>\n",
       "    <tr>\n",
       "      <th>2008-06-20</th>\n",
       "      <td>El objetivo para la Tasa de Inter�s Interbanca...</td>\n",
       "      <td>https://www.banxico.org.mx/publicaciones-y-pre...</td>\n",
       "      <td>incrementa</td>\n",
       "    </tr>\n",
       "  </tbody>\n",
       "</table>\n",
       "</div>"
      ],
      "text/plain": [
       "                                                         text  \\\n",
       "date                                                            \n",
       "2008-02-15  El objetivo para la Tasa de Inter�s Interbanca...   \n",
       "2008-03-14  El objetivo para la Tasa de Inter�s Interbanca...   \n",
       "2008-04-18  El objetivo para la Tasa de Inter�s Interbanca...   \n",
       "2008-05-16  El objetivo para la Tasa de Inter�s Interbanca...   \n",
       "2008-06-20  El objetivo para la Tasa de Inter�s Interbanca...   \n",
       "\n",
       "                                                          url    category  \n",
       "date                                                                       \n",
       "2008-02-15  https://www.banxico.org.mx/publicaciones-y-pre...    mantiene  \n",
       "2008-03-14  https://www.banxico.org.mx/publicaciones-y-pre...    mantiene  \n",
       "2008-04-18  https://www.banxico.org.mx/publicaciones-y-pre...    mantiene  \n",
       "2008-05-16  https://www.banxico.org.mx/publicaciones-y-pre...    mantiene  \n",
       "2008-06-20  https://www.banxico.org.mx/publicaciones-y-pre...  incrementa  "
      ]
     },
     "execution_count": 10,
     "metadata": {},
     "output_type": "execute_result"
    }
   ],
   "source": [
    "result = df_values[\"text\"].str.extract(\"(mantiene|incrementa|disminuye)\")\n",
    "df_values[\"category\"] = result\n",
    "df_values.head()"
   ]
  },
  {
   "cell_type": "markdown",
   "metadata": {},
   "source": [
    "# Gráficos"
   ]
  },
  {
   "cell_type": "code",
   "execution_count": 40,
   "metadata": {},
   "outputs": [
    {
     "data": {
      "text/plain": [
       "mantiene      72\n",
       "incrementa    18\n",
       "disminuye     16\n",
       "Name: category, dtype: int64"
      ]
     },
     "execution_count": 40,
     "metadata": {},
     "output_type": "execute_result"
    }
   ],
   "source": [
    "cuenta = df_values[\"category\"].value_counts()\n",
    "pd.Series(cuenta)\n"
   ]
  },
  {
   "cell_type": "code",
   "execution_count": 45,
   "metadata": {},
   "outputs": [
    {
     "data": {
      "image/png": "[encoded data removed]",
      "text/plain": [
       "<Figure size 432x288 with 1 Axes>"
      ]
     },
     "metadata": {
      "image/png": {
       "height": 231,
       "width": 259
      }
     },
     "output_type": "display_data"
    }
   ],
   "source": [
    "plt.pie(pd.Series(cuenta), labels=df_values[\"category\"].unique(), autopct=\"%0.1f %%\")\n",
    "plt.show()"
   ]
  },
  {
   "cell_type": "code",
   "execution_count": 46,
   "metadata": {},
   "outputs": [],
   "source": [
    "grafica = df_values\n",
    "def categorizar(fila):\n",
    "    cat = fila.category  \n",
    "    if cat == \"mantiene\":\n",
    "        return 0\n",
    "    elif cat == \"incrementa\":\n",
    "        return 1\n",
    "    else:\n",
    "        return -1\n",
    "grafica[\"y\"] = grafica.apply(categorizar, axis=1) # se categoriza los valores de y en (-1,0,1)\n"
   ]
  },
  {
   "cell_type": "code",
   "execution_count": 48,
   "metadata": {
    "scrolled": true
   },
   "outputs": [
    {
     "data": {
      "image/png": "[encoded data removed]",
      "text/plain": [
       "<Figure size 2160x720 with 2 Axes>"
      ]
     },
     "metadata": {
      "image/png": {
       "height": 604,
       "width": 1716
      },
      "needs_background": "light"
     },
     "output_type": "display_data"
    }
   ],
   "source": [
    "import matplotlib.pyplot as plt\n",
    "\n",
    "fig = plt.figure(figsize=(30,10))\n",
    "plt.subplot2grid((1,2),(0,0))\n",
    "plt.plot(grafica[\"y\"],linestyle=\"\", marker = \"+\")\n",
    "plt.yticks([-1,0,1],[r'$\\downarrow$',r'$-$',r'$\\uparrow$'],fontsize=24)\n",
    "plt.xlabel(\"date\")\n",
    "plt.grid(True)\n",
    "\n",
    "\n",
    "plt.subplot2grid((1,2),(0,1))\n",
    "plt.bar(grafica[\"category\"].unique(),df_values[\"category\"].value_counts(), width = 0.50,color =\"blue\")\n",
    "plt.title(\"Frecuencia de categorías\")\n",
    "plt.show()"
   ]
  },
  {
   "cell_type": "markdown",
   "metadata": {},
   "source": []
  },
  {
   "cell_type": "code",
   "execution_count": 49,
   "metadata": {},
   "outputs": [
    {
     "data": {
      "text/plain": [
       "año   category  \n",
       "2008  incrementa     3\n",
       "      mantiene       7\n",
       "2009  disminuye      7\n",
       "      mantiene       4\n",
       "2010  mantiene      11\n",
       "2011  mantiene       8\n",
       "2012  mantiene       8\n",
       "2013  disminuye      3\n",
       "      mantiene       5\n",
       "2014  disminuye      1\n",
       "Name: url, dtype: int64"
      ]
     },
     "execution_count": 49,
     "metadata": {},
     "output_type": "execute_result"
    }
   ],
   "source": [
    "grafica[\"año\"] = list(pd.to_datetime(grafica.index.values).strftime('%Y'))\n",
    "grafica.groupby([\"año\",\"category\"]).count()[\"url\"][:10]\n"
   ]
  },
  {
   "cell_type": "raw",
   "metadata": {},
   "source": []
  },
  {
   "cell_type": "code",
   "execution_count": 50,
   "metadata": {},
   "outputs": [
    {
     "data": {
      "image/png": "[encoded data removed]",
      "text/plain": [
       "<Figure size 432x288 with 1 Axes>"
      ]
     },
     "metadata": {
      "image/png": {
       "height": 293,
       "width": 368
      },
      "needs_background": "light"
     },
     "output_type": "display_data"
    }
   ],
   "source": [
    "grafico2 = grafica.groupby([\"año\",\"category\"]).count()[\"url\"]\n",
    "grafico2.unstack().plot(kind='bar', stacked=True)\n",
    "plt.xlabel(\"date\")\n",
    "plt.title(\"Frecuencia por año y tipo de categorías\")\n",
    "plt.grid(True)"
   ]
  },
  {
   "cell_type": "markdown",
   "metadata": {},
   "source": [
    "# Descargando y guardadando pdf"
   ]
  },
  {
   "cell_type": "code",
   "execution_count": 25,
   "metadata": {},
   "outputs": [],
   "source": [
    "import requests\n",
    "import re\n",
    "#re.search(r\"The E\\..\",  df_values.url[0])\n",
    "ruta = \"C:/users/José Miguel/descargas_minutas\"\n",
    "for i in range(len(df_values.url)-1): #la última no es anuncio\n",
    "    url = df_values.url[i] #extraigo la url del dataframe\n",
    "    myfile = requests.get(url) #leo la url\n",
    "    fecha = list(pd.to_datetime(grafica.index.values).strftime('%Y%m%d'))[i] #extraigo la fecha correspondiente\n",
    "    pdf = fecha + re.findall(\"{[^\\?]+\", df_values.url[i])[0] #extraigo el nombre del archivo y concateno con fecha\n",
    "    full_path = os.path.join(ruta,pdf) #\"paper.pdf\"\n",
    "    open(full_path, 'wb').write(myfile.content) #escribo el archivo en la computadora"
   ]
  },
  {
   "cell_type": "code",
   "execution_count": 24,
   "metadata": {
    "scrolled": true
   },
   "outputs": [],
   "source": [
    "!pip install pypdf2\n"
   ]
  },
  {
   "cell_type": "code",
   "execution_count": 21,
   "metadata": {},
   "outputs": [],
   "source": [
    "from PyPDF2 import PdfFileReader\n",
    "from collections import defaultdict\n",
    "from os import listdir"
   ]
  },
  {
   "cell_type": "code",
   "execution_count": 306,
   "metadata": {},
   "outputs": [],
   "source": [
    "texto_fechas = defaultdict(list)\n"
   ]
  },
  {
   "cell_type": "code",
   "execution_count": 307,
   "metadata": {},
   "outputs": [],
   "source": [
    "for i in range(len(df_values.url)-1): #el último docuemento se refiere a un calendario, por lo que no se debe tomar\n",
    "    #fecha = list(pd.to_datetime(grafica.index.values).strftime('%Y%m%d'))[i]\n",
    "    cat = grafica[\"category\"][i]\n",
    "    #fecha = list(pd.to_datetime(grafica.index.values).strftime('%Y%m%d'))[i]\n",
    "    archivo_pdf =listdir(ruta)[i]\n",
    "    full_path2 = os.path.join(ruta,archivo_pdf)\n",
    "    with open(full_path2, 'rb') as f:\n",
    "        pdf = PdfFileReader(f)\n",
    "        page = pdf.getPage(0)\n",
    "        page_content = page.extractText()\n",
    "    \n",
    "    texto_fechas[cat].append(page_content)\n",
    "    "
   ]
  },
  {
   "cell_type": "code",
   "execution_count": 303,
   "metadata": {},
   "outputs": [],
   "source": [
    "del texto_fechas"
   ]
  },
  {
   "cell_type": "code",
   "execution_count": 308,
   "metadata": {
    "scrolled": true
   },
   "outputs": [
    {
     "name": "stdout",
     "output_type": "stream",
     "text": [
      "mantiene\n",
      "incrementa\n",
      "disminuye\n"
     ]
    }
   ],
   "source": [
    "for key in texto_fechas.keys():\n",
    "    print(key)   \n",
    "    "
   ]
  },
  {
   "cell_type": "code",
   "execution_count": null,
   "metadata": {},
   "outputs": [],
   "source": []
  },
  {
   "cell_type": "markdown",
   "metadata": {},
   "source": [
    "# Naïve  Bayes\n"
   ]
  },
  {
   "cell_type": "code",
   "execution_count": 266,
   "metadata": {},
   "outputs": [],
   "source": [
    "import re\n",
    "def limpia_dialogo(doc): #pasa todo a minusculas\n",
    "    limpio = doc.lower()\n",
    "    limpio = re.sub(\"[^\\w ]\", \"\", limpio)\n",
    "    return limpio\n",
    "\n",
    "def quita_dialogo(doc): #quita las palabras de las clases\n",
    "    limpio = doc.lower()\n",
    "    quita = re.sub(\"mantener|aumentar|reducir|mexico|\", \"\", limpio)\n",
    "    return quita\n",
    "\n",
    "def quita_anio(doc): #quita las palabras de las clases\n",
    "    limpio = doc.lower()\n",
    "    quita = re.sub(\"2008|2009|2010|2011|20012|2013|2014|2015|2016|2017|2018|2019\", \"\", limpio)\n",
    "    return quita   "
   ]
  },
  {
   "cell_type": "code",
   "execution_count": 309,
   "metadata": {},
   "outputs": [],
   "source": [
    "texto_fechas[\"mantiene\"] = [limpia_dialogo(doc) for doc in texto_fechas[\"mantiene\"]]\n",
    "texto_fechas[\"incrementa\"] = [limpia_dialogo(doc) for doc in texto_fechas[\"incrementa\"]]\n",
    "texto_fechas[\"disminuye\"] = [limpia_dialogo(doc) for doc in texto_fechas[\"disminuye\"]]\n",
    "\n",
    "texto_fechas[\"mantiene\"] = [quita_dialogo(doc) for doc in texto_fechas[\"mantiene\"]]\n",
    "texto_fechas[\"incrementa\"] = [quita_dialogo(doc) for doc in texto_fechas[\"incrementa\"]]\n",
    "texto_fechas[\"disminuye\"] = [quita_dialogo(doc) for doc in texto_fechas[\"disminuye\"]]\n",
    "\n"
   ]
  },
  {
   "cell_type": "code",
   "execution_count": null,
   "metadata": {},
   "outputs": [],
   "source": []
  },
  {
   "cell_type": "code",
   "execution_count": null,
   "metadata": {},
   "outputs": [],
   "source": []
  },
  {
   "cell_type": "code",
   "execution_count": 122,
   "metadata": {},
   "outputs": [
    {
     "name": "stderr",
     "output_type": "stream",
     "text": [
      "[nltk_data] Downloading package stopwords to\n",
      "[nltk_data]     C:\\Users\\B13610\\AppData\\Roaming\\nltk_data...\n",
      "[nltk_data]   Package stopwords is already up-to-date!\n"
     ]
    }
   ],
   "source": [
    "from unidecode import unidecode\n",
    "from nltk import corpus\n",
    "import nltk\n",
    "nltk.download(\"stopwords\")\n",
    "from sklearn.model_selection import train_test_split"
   ]
  },
  {
   "cell_type": "code",
   "execution_count": 310,
   "metadata": {},
   "outputs": [],
   "source": [
    "D1_train, D1_test = train_test_split(texto_fechas[\"mantiene\"], test_size=0.2)\n",
    "D2_train, D2_test = train_test_split(texto_fechas[\"incrementa\"], test_size=0.2)\n",
    "D3_train, D3_test = train_test_split(texto_fechas[\"disminuye\"], test_size=0.2)"
   ]
  },
  {
   "cell_type": "code",
   "execution_count": 311,
   "metadata": {},
   "outputs": [],
   "source": [
    "stopwords = corpus.stopwords.words(\"spanish\")\n",
    "stopwords = [unidecode(word) for word in stopwords]\n"
   ]
  },
  {
   "cell_type": "code",
   "execution_count": 312,
   "metadata": {},
   "outputs": [
    {
     "data": {
      "text/plain": [
       "72"
      ]
     },
     "execution_count": 312,
     "metadata": {},
     "output_type": "execute_result"
    }
   ],
   "source": [
    "len(D1_train)\n",
    "len(texto_fechas[\"mantiene\"])"
   ]
  },
  {
   "cell_type": "code",
   "execution_count": 313,
   "metadata": {},
   "outputs": [],
   "source": [
    "V1 = [palabra for dialogo in D1_train for palabra in dialogo.split()\n",
    "      if palabra not in stopwords]\n",
    "V2 = [palabra for dialogo in D2_train for palabra in dialogo.split()\n",
    "      if palabra not in stopwords]\n",
    "V3 = [palabra for dialogo in D3_train for palabra in dialogo.split()\n",
    "      if palabra not in stopwords]"
   ]
  },
  {
   "cell_type": "code",
   "execution_count": 314,
   "metadata": {},
   "outputs": [
    {
     "data": {
      "text/html": [
       "<div>\n",
       "<style scoped>\n",
       "    .dataframe tbody tr th:only-of-type {\n",
       "        vertical-align: middle;\n",
       "    }\n",
       "\n",
       "    .dataframe tbody tr th {\n",
       "        vertical-align: top;\n",
       "    }\n",
       "\n",
       "    .dataframe thead th {\n",
       "        text-align: right;\n",
       "    }\n",
       "</style>\n",
       "<table border=\"1\" class=\"dataframe\">\n",
       "  <thead>\n",
       "    <tr style=\"text-align: right;\">\n",
       "      <th></th>\n",
       "      <th>mantiene</th>\n",
       "      <th>disminuye</th>\n",
       "      <th>aumenta</th>\n",
       "    </tr>\n",
       "  </thead>\n",
       "  <tbody>\n",
       "    <tr>\n",
       "      <th>0</th>\n",
       "      <td>0.128968</td>\n",
       "      <td>0.274255</td>\n",
       "      <td>0.289676</td>\n",
       "    </tr>\n",
       "  </tbody>\n",
       "</table>\n",
       "</div>"
      ],
      "text/plain": [
       "   mantiene  disminuye   aumenta\n",
       "0  0.128968   0.274255  0.289676"
      ]
     },
     "execution_count": 314,
     "metadata": {},
     "output_type": "execute_result"
    }
   ],
   "source": [
    "palabras_fin = pd.DataFrame()\n",
    "palabras_fin[\"mantiene\"] = pd.Series(len(set(V1)) / len(V1))\n",
    "palabras_fin[\"disminuye\"] = pd.Series(len(set(V2)) / len(V2))\n",
    "palabras_fin[\"aumenta\"] = pd.Series(len(set(V3)) / len(V3))\n",
    "palabras_fin"
   ]
  },
  {
   "cell_type": "code",
   "execution_count": 315,
   "metadata": {},
   "outputs": [
    {
     "data": {
      "text/html": [
       "<div>\n",
       "<style scoped>\n",
       "    .dataframe tbody tr th:only-of-type {\n",
       "        vertical-align: middle;\n",
       "    }\n",
       "\n",
       "    .dataframe tbody tr th {\n",
       "        vertical-align: top;\n",
       "    }\n",
       "\n",
       "    .dataframe thead th {\n",
       "        text-align: right;\n",
       "    }\n",
       "</style>\n",
       "<table border=\"1\" class=\"dataframe\">\n",
       "  <thead>\n",
       "    <tr style=\"text-align: right;\">\n",
       "      <th></th>\n",
       "      <th>mantiene</th>\n",
       "      <th>disminuye</th>\n",
       "      <th>incrementa</th>\n",
       "    </tr>\n",
       "  </thead>\n",
       "  <tbody>\n",
       "    <tr>\n",
       "      <th>inflación</th>\n",
       "      <td>52</td>\n",
       "      <td>315.0</td>\n",
       "      <td>49.0</td>\n",
       "    </tr>\n",
       "    <tr>\n",
       "      <th>economía</th>\n",
       "      <td>38</td>\n",
       "      <td>170.0</td>\n",
       "      <td>45.0</td>\n",
       "    </tr>\n",
       "    <tr>\n",
       "      <th>crecimiento</th>\n",
       "      <td>36</td>\n",
       "      <td>179.0</td>\n",
       "      <td>39.0</td>\n",
       "    </tr>\n",
       "    <tr>\n",
       "      <th>monetaria</th>\n",
       "      <td>35</td>\n",
       "      <td>168.0</td>\n",
       "      <td>51.0</td>\n",
       "    </tr>\n",
       "    <tr>\n",
       "      <th>méxico</th>\n",
       "      <td>34</td>\n",
       "      <td>170.0</td>\n",
       "      <td>40.0</td>\n",
       "    </tr>\n",
       "    <tr>\n",
       "      <th>riesgos</th>\n",
       "      <td>33</td>\n",
       "      <td>NaN</td>\n",
       "      <td>NaN</td>\n",
       "    </tr>\n",
       "    <tr>\n",
       "      <th>económica</th>\n",
       "      <td>33</td>\n",
       "      <td>143.0</td>\n",
       "      <td>44.0</td>\n",
       "    </tr>\n",
       "    <tr>\n",
       "      <th>actividad</th>\n",
       "      <td>31</td>\n",
       "      <td>159.0</td>\n",
       "      <td>40.0</td>\n",
       "    </tr>\n",
       "    <tr>\n",
       "      <th>política</th>\n",
       "      <td>28</td>\n",
       "      <td>134.0</td>\n",
       "      <td>49.0</td>\n",
       "    </tr>\n",
       "    <tr>\n",
       "      <th>interés</th>\n",
       "      <td>27</td>\n",
       "      <td>NaN</td>\n",
       "      <td>38.0</td>\n",
       "    </tr>\n",
       "  </tbody>\n",
       "</table>\n",
       "</div>"
      ],
      "text/plain": [
       "             mantiene  disminuye  incrementa\n",
       "inflación          52      315.0        49.0\n",
       "economía           38      170.0        45.0\n",
       "crecimiento        36      179.0        39.0\n",
       "monetaria          35      168.0        51.0\n",
       "méxico             34      170.0        40.0\n",
       "riesgos            33        NaN         NaN\n",
       "económica          33      143.0        44.0\n",
       "actividad          31      159.0        40.0\n",
       "política           28      134.0        49.0\n",
       "interés            27        NaN        38.0"
      ]
     },
     "execution_count": 315,
     "metadata": {},
     "output_type": "execute_result"
    }
   ],
   "source": [
    "#posible interseccion de las palabras\n",
    "top_words= pd.DataFrame()\n",
    "top_words[\"mantiene\"]= pd.Series(V3).value_counts()[:10] #disminuye\n",
    "top_words[\"disminuye\"]= pd.Series(V1).value_counts()[:10] #mantiene\n",
    "top_words[\"incrementa\"]= pd.Series(V2).value_counts()[:10]\n",
    "top_words"
   ]
  },
  {
   "cell_type": "code",
   "execution_count": null,
   "metadata": {},
   "outputs": [],
   "source": []
  },
  {
   "cell_type": "code",
   "execution_count": null,
   "metadata": {},
   "outputs": [],
   "source": []
  },
  {
   "cell_type": "code",
   "execution_count": null,
   "metadata": {},
   "outputs": [],
   "source": []
  },
  {
   "cell_type": "code",
   "execution_count": 316,
   "metadata": {},
   "outputs": [
    {
     "data": {
      "text/plain": [
       "inflación       315\n",
       "crecimiento     179\n",
       "economía        170\n",
       "méxico          170\n",
       "monetaria       168\n",
       "               ... \n",
       "reforzada         1\n",
       "restrictivas      1\n",
       "evidente          1\n",
       "dará              1\n",
       "existencia        1\n",
       "Length: 2275, dtype: int64"
      ]
     },
     "execution_count": 316,
     "metadata": {},
     "output_type": "execute_result"
    }
   ],
   "source": [
    "pd.Series(V1).value_counts() #mantiene"
   ]
  },
  {
   "cell_type": "code",
   "execution_count": 296,
   "metadata": {},
   "outputs": [
    {
     "data": {
      "text/plain": [
       "monetaria      161\n",
       "política       154\n",
       "inflación      139\n",
       "economía       137\n",
       "crecimiento    132\n",
       "              ... \n",
       "semana           1\n",
       "tornó            1\n",
       "lograrlo         1\n",
       "fuentes          1\n",
       "argumentos       1\n",
       "Length: 1304, dtype: int64"
      ]
     },
     "execution_count": 296,
     "metadata": {},
     "output_type": "execute_result"
    }
   ],
   "source": [
    "pd.Series(V2).value_counts() #incrementa"
   ]
  },
  {
   "cell_type": "code",
   "execution_count": 320,
   "metadata": {},
   "outputs": [
    {
     "data": {
      "text/plain": [
       "inflación      52\n",
       "economía       38\n",
       "crecimiento    36\n",
       "monetaria      35\n",
       "méxico         34\n",
       "               ..\n",
       "impactaron      1\n",
       "efectividad     1\n",
       "mínimos         1\n",
       "acumulado       1\n",
       "operaría        1\n",
       "Length: 982, dtype: int64"
      ]
     },
     "execution_count": 320,
     "metadata": {},
     "output_type": "execute_result"
    }
   ],
   "source": [
    "pd.Series(V3).value_counts() #disminuye"
   ]
  },
  {
   "cell_type": "code",
   "execution_count": 318,
   "metadata": {},
   "outputs": [],
   "source": [
    "V = set(V1) | set(V2) |set(V3)\n",
    "vocab = pd.DataFrame(index=V)\n",
    "V1_c = pd.Series(V1, name=\"k1\").value_counts()\n",
    "V2_c = pd.Series(V2, name=\"k2\").value_counts()\n",
    "V3_c = pd.Series(V2, name=\"k3\").value_counts()"
   ]
  },
  {
   "cell_type": "code",
   "execution_count": 321,
   "metadata": {},
   "outputs": [
    {
     "data": {
      "text/html": [
       "<div>\n",
       "<style scoped>\n",
       "    .dataframe tbody tr th:only-of-type {\n",
       "        vertical-align: middle;\n",
       "    }\n",
       "\n",
       "    .dataframe tbody tr th {\n",
       "        vertical-align: top;\n",
       "    }\n",
       "\n",
       "    .dataframe thead th {\n",
       "        text-align: right;\n",
       "    }\n",
       "</style>\n",
       "<table border=\"1\" class=\"dataframe\">\n",
       "  <thead>\n",
       "    <tr style=\"text-align: right;\">\n",
       "      <th></th>\n",
       "      <th>k1</th>\n",
       "      <th>k2</th>\n",
       "      <th>k3</th>\n",
       "    </tr>\n",
       "  </thead>\n",
       "  <tbody>\n",
       "    <tr>\n",
       "      <th>relajado</th>\n",
       "      <td>0.000049</td>\n",
       "      <td>0.000146</td>\n",
       "      <td>0.000146</td>\n",
       "    </tr>\n",
       "    <tr>\n",
       "      <th>dicha</th>\n",
       "      <td>0.001036</td>\n",
       "      <td>0.000876</td>\n",
       "      <td>0.000876</td>\n",
       "    </tr>\n",
       "    <tr>\n",
       "      <th>persistir</th>\n",
       "      <td>0.000099</td>\n",
       "      <td>0.000146</td>\n",
       "      <td>0.000146</td>\n",
       "    </tr>\n",
       "    <tr>\n",
       "      <th>divisas</th>\n",
       "      <td>0.000296</td>\n",
       "      <td>0.000292</td>\n",
       "      <td>0.000292</td>\n",
       "    </tr>\n",
       "    <tr>\n",
       "      <th>análisis</th>\n",
       "      <td>0.000099</td>\n",
       "      <td>0.000146</td>\n",
       "      <td>0.000146</td>\n",
       "    </tr>\n",
       "    <tr>\n",
       "      <th>presidida</th>\n",
       "      <td>0.000099</td>\n",
       "      <td>0.000146</td>\n",
       "      <td>0.000146</td>\n",
       "    </tr>\n",
       "    <tr>\n",
       "      <th>327</th>\n",
       "      <td>0.000049</td>\n",
       "      <td>0.000146</td>\n",
       "      <td>0.000146</td>\n",
       "    </tr>\n",
       "    <tr>\n",
       "      <th>responsabilidad</th>\n",
       "      <td>0.000099</td>\n",
       "      <td>0.000146</td>\n",
       "      <td>0.000146</td>\n",
       "    </tr>\n",
       "    <tr>\n",
       "      <th>prensa</th>\n",
       "      <td>0.002912</td>\n",
       "      <td>0.002336</td>\n",
       "      <td>0.002336</td>\n",
       "    </tr>\n",
       "    <tr>\n",
       "      <th>próximos</th>\n",
       "      <td>0.000592</td>\n",
       "      <td>0.000438</td>\n",
       "      <td>0.000438</td>\n",
       "    </tr>\n",
       "  </tbody>\n",
       "</table>\n",
       "</div>"
      ],
      "text/plain": [
       "                       k1        k2        k3\n",
       "relajado         0.000049  0.000146  0.000146\n",
       "dicha            0.001036  0.000876  0.000876\n",
       "persistir        0.000099  0.000146  0.000146\n",
       "divisas          0.000296  0.000292  0.000292\n",
       "análisis         0.000099  0.000146  0.000146\n",
       "presidida        0.000099  0.000146  0.000146\n",
       "327              0.000049  0.000146  0.000146\n",
       "responsabilidad  0.000099  0.000146  0.000146\n",
       "prensa           0.002912  0.002336  0.002336\n",
       "próximos         0.000592  0.000438  0.000438"
      ]
     },
     "execution_count": 321,
     "metadata": {},
     "output_type": "execute_result"
    }
   ],
   "source": [
    "# likelihood\n",
    "L = (vocab.join(V1_c, how=\"left\")\n",
    "          .join(V2_c, how=\"left\").join(V3_c,how=\"left\"))\n",
    "#L = vocab.join(V3_c, how= \"left\")\n",
    "\n",
    "L = L.fillna(0) + 1\n",
    "L = L / L.sum(axis=0)\n",
    "L.sample(10, random_state=314)"
   ]
  },
  {
   "cell_type": "code",
   "execution_count": 322,
   "metadata": {},
   "outputs": [],
   "source": [
    "log_L = np.log(L)\n",
    "N= len(D1_train)+len(D2_train)+len(D3_train)\n",
    "log_prior_k1 = np.log(len(D1_train) / N)\n",
    "log_prior_k2 = np.log(len(D2_train) / N)\n",
    "log_prior_k3 = np.log(len(D3_train) / N)\n",
    "log_priors = np.array([log_prior_k1, log_prior_k2, log_prior_k3])"
   ]
  },
  {
   "cell_type": "code",
   "execution_count": 323,
   "metadata": {},
   "outputs": [],
   "source": [
    "D_test = D1_test + D2_test + D3_test\n",
    "y_test = [\"k1\"] * len(D1_test) + [\"k2\"] * len(D2_test)+[\"k3\"] * len(D3_test)\n",
    "yhat_test = []\n",
    "for d_test in D_test:\n",
    "    f = set([palabra for palabra in d_test.split() if palabra in V])\n",
    "    res = log_L.loc[f].sum(axis=0) + log_priors\n",
    "    yhat_test.append(res.idxmax())"
   ]
  },
  {
   "cell_type": "code",
   "execution_count": 324,
   "metadata": {},
   "outputs": [
    {
     "data": {
      "text/html": [
       "<div>\n",
       "<style scoped>\n",
       "    .dataframe tbody tr th:only-of-type {\n",
       "        vertical-align: middle;\n",
       "    }\n",
       "\n",
       "    .dataframe tbody tr th {\n",
       "        vertical-align: top;\n",
       "    }\n",
       "\n",
       "    .dataframe thead th {\n",
       "        text-align: right;\n",
       "    }\n",
       "</style>\n",
       "<table border=\"1\" class=\"dataframe\">\n",
       "  <thead>\n",
       "    <tr style=\"text-align: right;\">\n",
       "      <th></th>\n",
       "      <th>y_test</th>\n",
       "      <th>y_hat</th>\n",
       "    </tr>\n",
       "  </thead>\n",
       "  <tbody>\n",
       "    <tr>\n",
       "      <th>0</th>\n",
       "      <td>k1</td>\n",
       "      <td>k1</td>\n",
       "    </tr>\n",
       "    <tr>\n",
       "      <th>1</th>\n",
       "      <td>k1</td>\n",
       "      <td>k1</td>\n",
       "    </tr>\n",
       "    <tr>\n",
       "      <th>2</th>\n",
       "      <td>k1</td>\n",
       "      <td>k1</td>\n",
       "    </tr>\n",
       "    <tr>\n",
       "      <th>3</th>\n",
       "      <td>k1</td>\n",
       "      <td>k2</td>\n",
       "    </tr>\n",
       "    <tr>\n",
       "      <th>4</th>\n",
       "      <td>k1</td>\n",
       "      <td>k1</td>\n",
       "    </tr>\n",
       "    <tr>\n",
       "      <th>5</th>\n",
       "      <td>k1</td>\n",
       "      <td>k1</td>\n",
       "    </tr>\n",
       "    <tr>\n",
       "      <th>6</th>\n",
       "      <td>k1</td>\n",
       "      <td>k1</td>\n",
       "    </tr>\n",
       "    <tr>\n",
       "      <th>7</th>\n",
       "      <td>k1</td>\n",
       "      <td>k2</td>\n",
       "    </tr>\n",
       "    <tr>\n",
       "      <th>8</th>\n",
       "      <td>k1</td>\n",
       "      <td>k1</td>\n",
       "    </tr>\n",
       "    <tr>\n",
       "      <th>9</th>\n",
       "      <td>k1</td>\n",
       "      <td>k1</td>\n",
       "    </tr>\n",
       "    <tr>\n",
       "      <th>10</th>\n",
       "      <td>k1</td>\n",
       "      <td>k1</td>\n",
       "    </tr>\n",
       "    <tr>\n",
       "      <th>11</th>\n",
       "      <td>k1</td>\n",
       "      <td>k2</td>\n",
       "    </tr>\n",
       "    <tr>\n",
       "      <th>12</th>\n",
       "      <td>k1</td>\n",
       "      <td>k1</td>\n",
       "    </tr>\n",
       "    <tr>\n",
       "      <th>13</th>\n",
       "      <td>k1</td>\n",
       "      <td>k1</td>\n",
       "    </tr>\n",
       "    <tr>\n",
       "      <th>14</th>\n",
       "      <td>k1</td>\n",
       "      <td>k1</td>\n",
       "    </tr>\n",
       "    <tr>\n",
       "      <th>15</th>\n",
       "      <td>k2</td>\n",
       "      <td>k1</td>\n",
       "    </tr>\n",
       "    <tr>\n",
       "      <th>16</th>\n",
       "      <td>k2</td>\n",
       "      <td>k2</td>\n",
       "    </tr>\n",
       "    <tr>\n",
       "      <th>17</th>\n",
       "      <td>k2</td>\n",
       "      <td>k1</td>\n",
       "    </tr>\n",
       "    <tr>\n",
       "      <th>18</th>\n",
       "      <td>k2</td>\n",
       "      <td>k2</td>\n",
       "    </tr>\n",
       "    <tr>\n",
       "      <th>19</th>\n",
       "      <td>k3</td>\n",
       "      <td>k1</td>\n",
       "    </tr>\n",
       "    <tr>\n",
       "      <th>20</th>\n",
       "      <td>k3</td>\n",
       "      <td>k1</td>\n",
       "    </tr>\n",
       "    <tr>\n",
       "      <th>21</th>\n",
       "      <td>k3</td>\n",
       "      <td>k1</td>\n",
       "    </tr>\n",
       "  </tbody>\n",
       "</table>\n",
       "</div>"
      ],
      "text/plain": [
       "   y_test y_hat\n",
       "0      k1    k1\n",
       "1      k1    k1\n",
       "2      k1    k1\n",
       "3      k1    k2\n",
       "4      k1    k1\n",
       "5      k1    k1\n",
       "6      k1    k1\n",
       "7      k1    k2\n",
       "8      k1    k1\n",
       "9      k1    k1\n",
       "10     k1    k1\n",
       "11     k1    k2\n",
       "12     k1    k1\n",
       "13     k1    k1\n",
       "14     k1    k1\n",
       "15     k2    k1\n",
       "16     k2    k2\n",
       "17     k2    k1\n",
       "18     k2    k2\n",
       "19     k3    k1\n",
       "20     k3    k1\n",
       "21     k3    k1"
      ]
     },
     "execution_count": 324,
     "metadata": {},
     "output_type": "execute_result"
    }
   ],
   "source": [
    "y_test = [\"k1\"] * len(D1_test) + [\"k2\"] * len(D2_test)+[\"k3\"] * len(D3_test)\n",
    "casos = pd.DataFrame()\n",
    "casos[\"y_test\"] = y_test\n",
    "casos[\"y_hat\"] = yhat_test\n",
    "casos\n"
   ]
  },
  {
   "cell_type": "code",
   "execution_count": 329,
   "metadata": {},
   "outputs": [
    {
     "data": {
      "text/plain": [
       "array([[12,  3,  0],\n",
       "       [ 2,  2,  0],\n",
       "       [ 3,  0,  0]], dtype=int64)"
      ]
     },
     "execution_count": 329,
     "metadata": {},
     "output_type": "execute_result"
    }
   ],
   "source": [
    "from sklearn.metrics import confusion_matrix\n",
    "data = confusion_matrix(y_test, yhat_test)\n",
    "data"
   ]
  },
  {
   "cell_type": "code",
   "execution_count": 326,
   "metadata": {},
   "outputs": [],
   "source": [
    "import seaborn as sn"
   ]
  },
  {
   "cell_type": "code",
   "execution_count": 338,
   "metadata": {},
   "outputs": [
    {
     "data": {
      "image/png": "[encoded data removed]",
      "text/plain": [
       "<Figure size 720x504 with 2 Axes>"
      ]
     },
     "metadata": {
      "image/png": {
       "height": 443,
       "width": 577
      }
     },
     "output_type": "display_data"
    }
   ],
   "source": [
    "data = [[12,  3,  0],\n",
    "       [ 2,  2,  0],\n",
    "       [ 3,  0,  0]]\n",
    "\n",
    "conf = pd.DataFrame(data, columns=[\"mantiene\",\"incrementa\",\"disminuye\"], index = [\"mantiene\",\"incrementa\",\"disminuye\"])\n",
    "conf.index.name = 'Actual'\n",
    "conf.columns.name = 'Predicted'\n",
    "plt.figure(figsize = (10,7))\n",
    "sn.set(font_scale=1.4)#for label size\n",
    "sn.heatmap(conf, annot=True, annot_kws={\"size\": 16}) \n",
    "plt.show()"
   ]
  },
  {
   "cell_type": "code",
   "execution_count": null,
   "metadata": {},
   "outputs": [],
   "source": [
    "\n"
   ]
  },
  {
   "cell_type": "code",
   "execution_count": null,
   "metadata": {},
   "outputs": [],
   "source": []
  },
  {
   "cell_type": "code",
   "execution_count": null,
   "metadata": {},
   "outputs": [],
   "source": []
  },
  {
   "cell_type": "code",
   "execution_count": null,
   "metadata": {
    "scrolled": false
   },
   "outputs": [],
   "source": []
  },
  {
   "cell_type": "code",
   "execution_count": null,
   "metadata": {
    "scrolled": true
   },
   "outputs": [],
   "source": []
  },
  {
   "cell_type": "code",
   "execution_count": null,
   "metadata": {},
   "outputs": [],
   "source": [
    "\n"
   ]
  },
  {
   "cell_type": "code",
   "execution_count": null,
   "metadata": {},
   "outputs": [],
   "source": []
  },
  {
   "cell_type": "code",
   "execution_count": null,
   "metadata": {},
   "outputs": [],
   "source": []
  },
  {
   "cell_type": "code",
   "execution_count": null,
   "metadata": {},
   "outputs": [],
   "source": []
  },
  {
   "cell_type": "code",
   "execution_count": null,
   "metadata": {},
   "outputs": [],
   "source": []
  },
  {
   "cell_type": "code",
   "execution_count": null,
   "metadata": {},
   "outputs": [],
   "source": []
  },
  {
   "cell_type": "code",
   "execution_count": null,
   "metadata": {},
   "outputs": [],
   "source": []
  },
  {
   "cell_type": "code",
   "execution_count": null,
   "metadata": {},
   "outputs": [],
   "source": []
  },
  {
   "cell_type": "code",
   "execution_count": null,
   "metadata": {},
   "outputs": [],
   "source": []
  },
  {
   "cell_type": "code",
   "execution_count": 78,
   "metadata": {},
   "outputs": [],
   "source": [
    "\n"
   ]
  },
  {
   "cell_type": "code",
   "execution_count": null,
   "metadata": {},
   "outputs": [],
   "source": []
  },
  {
   "cell_type": "code",
   "execution_count": null,
   "metadata": {},
   "outputs": [],
   "source": []
  },
  {
   "cell_type": "code",
   "execution_count": null,
   "metadata": {},
   "outputs": [],
   "source": []
  }
 ],
 "metadata": {
  "kernelspec": {
   "display_name": "Python 3",
   "language": "python",
   "name": "python3"
  },
  "language_info": {
   "codemirror_mode": {
    "name": "ipython",
    "version": 3
   },
   "file_extension": ".py",
   "mimetype": "text/x-python",
   "name": "python",
   "nbconvert_exporter": "python",
   "pygments_lexer": "ipython3",
   "version": "3.7.1"
  }
 },
 "nbformat": 4,
 "nbformat_minor": 2
}
